{
 "cells": [
  {
   "cell_type": "markdown",
   "metadata": {},
   "source": [
    "# UKCOGS survey: analysis\n",
    "\n",
    "Last updated: 30th June 2020\n",
    "\n",
    "## Introduction\n",
    "\n",
    "This notebook reproduces analysis presented in the paper"
   ]
  },
  {
   "cell_type": "markdown",
   "metadata": {},
   "source": [
    "## Prepare data"
   ]
  },
  {
   "cell_type": "code",
   "execution_count": 1,
   "metadata": {},
   "outputs": [],
   "source": [
    "## Libraries\n",
    "library(\"xtable\")\n",
    "library(\"ggplot2\")\n"
   ]
  },
  {
   "cell_type": "code",
   "execution_count": 2,
   "metadata": {},
   "outputs": [
    {
     "data": {
      "text/html": [
       "<table>\n",
       "<caption>A data.frame: 6 × 41</caption>\n",
       "<thead>\n",
       "\t<tr><th></th><th scope=col>X</th><th scope=col>ID</th><th scope=col>centre</th><th scope=col>name</th><th scope=col>staffreduced</th><th scope=col>staffJDCOVID</th><th scope=col>staffJDRedeploy</th><th scope=col>staffGOCOVID</th><th scope=col>staffGORedeploy</th><th scope=col>staffConstCOVID</th><th scope=col>⋯</th><th scope=col>pallcapred</th><th scope=col>gonvrred</th><th scope=col>mdtworkred</th><th scope=col>movepperlist</th><th scope=col>moveclinic</th><th scope=col>moveotheractivity</th><th scope=col>movenotyet</th><th scope=col>centralhub</th><th scope=col>minaccesssurg</th><th scope=col>newname</th></tr>\n",
       "\t<tr><th></th><th scope=col>&lt;int&gt;</th><th scope=col>&lt;dbl&gt;</th><th scope=col>&lt;fct&gt;</th><th scope=col>&lt;fct&gt;</th><th scope=col>&lt;fct&gt;</th><th scope=col>&lt;lgl&gt;</th><th scope=col>&lt;lgl&gt;</th><th scope=col>&lt;lgl&gt;</th><th scope=col>&lt;lgl&gt;</th><th scope=col>&lt;lgl&gt;</th><th scope=col>⋯</th><th scope=col>&lt;int&gt;</th><th scope=col>&lt;int&gt;</th><th scope=col>&lt;int&gt;</th><th scope=col>&lt;lgl&gt;</th><th scope=col>&lt;lgl&gt;</th><th scope=col>&lt;lgl&gt;</th><th scope=col>&lt;lgl&gt;</th><th scope=col>&lt;lgl&gt;</th><th scope=col>&lt;lgl&gt;</th><th scope=col>&lt;int&gt;</th></tr>\n",
       "</thead>\n",
       "<tbody>\n",
       "\t<tr><th scope=row>1</th><td>18</td><td>11593373277</td><td>Unit  </td><td>site-1</td><td>No </td><td>FALSE</td><td>FALSE</td><td>FALSE</td><td>FALSE</td><td>FALSE</td><td>⋯</td><td>NA</td><td>10</td><td>20</td><td> TRUE</td><td>FALSE</td><td>FALSE</td><td>FALSE</td><td>FALSE</td><td>FALSE</td><td>1</td></tr>\n",
       "\t<tr><th scope=row>2</th><td>30</td><td>11555988746</td><td>Unit  </td><td>site-2</td><td>No </td><td>FALSE</td><td>FALSE</td><td>FALSE</td><td>FALSE</td><td>FALSE</td><td>⋯</td><td> 0</td><td>10</td><td>20</td><td>FALSE</td><td>FALSE</td><td>FALSE</td><td> TRUE</td><td> TRUE</td><td> TRUE</td><td>2</td></tr>\n",
       "\t<tr><th scope=row>3</th><td>55</td><td>11550243631</td><td>Centre</td><td>site-3</td><td>Yes</td><td>FALSE</td><td> TRUE</td><td>FALSE</td><td>FALSE</td><td> TRUE</td><td>⋯</td><td>NA</td><td>80</td><td>60</td><td> TRUE</td><td>FALSE</td><td>FALSE</td><td>   NA</td><td> TRUE</td><td> TRUE</td><td>3</td></tr>\n",
       "\t<tr><th scope=row>4</th><td>13</td><td>11593709116</td><td>Unit  </td><td>site-4</td><td>No </td><td>FALSE</td><td>FALSE</td><td>FALSE</td><td>FALSE</td><td>FALSE</td><td>⋯</td><td> 0</td><td>70</td><td>50</td><td> TRUE</td><td>FALSE</td><td>FALSE</td><td>FALSE</td><td> TRUE</td><td>FALSE</td><td>4</td></tr>\n",
       "\t<tr><th scope=row>5</th><td>22</td><td>11563796810</td><td>Centre</td><td>site-5</td><td>Yes</td><td>FALSE</td><td> TRUE</td><td>FALSE</td><td> TRUE</td><td>FALSE</td><td>⋯</td><td> 0</td><td> 0</td><td>50</td><td> TRUE</td><td> TRUE</td><td>   NA</td><td>   NA</td><td> TRUE</td><td>FALSE</td><td>5</td></tr>\n",
       "\t<tr><th scope=row>6</th><td> 9</td><td>11594652889</td><td>Centre</td><td>site-6</td><td>No </td><td>FALSE</td><td>FALSE</td><td>FALSE</td><td>FALSE</td><td>FALSE</td><td>⋯</td><td> 0</td><td>NA</td><td> 0</td><td> TRUE</td><td>FALSE</td><td>FALSE</td><td>FALSE</td><td> TRUE</td><td> TRUE</td><td>6</td></tr>\n",
       "</tbody>\n",
       "</table>\n"
      ],
      "text/latex": [
       "A data.frame: 6 × 41\n",
       "\\begin{tabular}{r|lllllllllllllllllllll}\n",
       "  & X & ID & centre & name & staffreduced & staffJDCOVID & staffJDRedeploy & staffGOCOVID & staffGORedeploy & staffConstCOVID & ⋯ & pallcapred & gonvrred & mdtworkred & movepperlist & moveclinic & moveotheractivity & movenotyet & centralhub & minaccesssurg & newname\\\\\n",
       "  & <int> & <dbl> & <fct> & <fct> & <fct> & <lgl> & <lgl> & <lgl> & <lgl> & <lgl> & ⋯ & <int> & <int> & <int> & <lgl> & <lgl> & <lgl> & <lgl> & <lgl> & <lgl> & <int>\\\\\n",
       "\\hline\n",
       "\t1 & 18 & 11593373277 & Unit   & site-1 & No  & FALSE & FALSE & FALSE & FALSE & FALSE & ⋯ & NA & 10 & 20 &  TRUE & FALSE & FALSE & FALSE & FALSE & FALSE & 1\\\\\n",
       "\t2 & 30 & 11555988746 & Unit   & site-2 & No  & FALSE & FALSE & FALSE & FALSE & FALSE & ⋯ &  0 & 10 & 20 & FALSE & FALSE & FALSE &  TRUE &  TRUE &  TRUE & 2\\\\\n",
       "\t3 & 55 & 11550243631 & Centre & site-3 & Yes & FALSE &  TRUE & FALSE & FALSE &  TRUE & ⋯ & NA & 80 & 60 &  TRUE & FALSE & FALSE &    NA &  TRUE &  TRUE & 3\\\\\n",
       "\t4 & 13 & 11593709116 & Unit   & site-4 & No  & FALSE & FALSE & FALSE & FALSE & FALSE & ⋯ &  0 & 70 & 50 &  TRUE & FALSE & FALSE & FALSE &  TRUE & FALSE & 4\\\\\n",
       "\t5 & 22 & 11563796810 & Centre & site-5 & Yes & FALSE &  TRUE & FALSE &  TRUE & FALSE & ⋯ &  0 &  0 & 50 &  TRUE &  TRUE &    NA &    NA &  TRUE & FALSE & 5\\\\\n",
       "\t6 &  9 & 11594652889 & Centre & site-6 & No  & FALSE & FALSE & FALSE & FALSE & FALSE & ⋯ &  0 & NA &  0 &  TRUE & FALSE & FALSE & FALSE &  TRUE &  TRUE & 6\\\\\n",
       "\\end{tabular}\n"
      ],
      "text/markdown": [
       "\n",
       "A data.frame: 6 × 41\n",
       "\n",
       "| <!--/--> | X &lt;int&gt; | ID &lt;dbl&gt; | centre &lt;fct&gt; | name &lt;fct&gt; | staffreduced &lt;fct&gt; | staffJDCOVID &lt;lgl&gt; | staffJDRedeploy &lt;lgl&gt; | staffGOCOVID &lt;lgl&gt; | staffGORedeploy &lt;lgl&gt; | staffConstCOVID &lt;lgl&gt; | ⋯ ⋯ | pallcapred &lt;int&gt; | gonvrred &lt;int&gt; | mdtworkred &lt;int&gt; | movepperlist &lt;lgl&gt; | moveclinic &lt;lgl&gt; | moveotheractivity &lt;lgl&gt; | movenotyet &lt;lgl&gt; | centralhub &lt;lgl&gt; | minaccesssurg &lt;lgl&gt; | newname &lt;int&gt; |\n",
       "|---|---|---|---|---|---|---|---|---|---|---|---|---|---|---|---|---|---|---|---|---|---|\n",
       "| 1 | 18 | 11593373277 | Unit   | site-1 | No  | FALSE | FALSE | FALSE | FALSE | FALSE | ⋯ | NA | 10 | 20 |  TRUE | FALSE | FALSE | FALSE | FALSE | FALSE | 1 |\n",
       "| 2 | 30 | 11555988746 | Unit   | site-2 | No  | FALSE | FALSE | FALSE | FALSE | FALSE | ⋯ |  0 | 10 | 20 | FALSE | FALSE | FALSE |  TRUE |  TRUE |  TRUE | 2 |\n",
       "| 3 | 55 | 11550243631 | Centre | site-3 | Yes | FALSE |  TRUE | FALSE | FALSE |  TRUE | ⋯ | NA | 80 | 60 |  TRUE | FALSE | FALSE |    NA |  TRUE |  TRUE | 3 |\n",
       "| 4 | 13 | 11593709116 | Unit   | site-4 | No  | FALSE | FALSE | FALSE | FALSE | FALSE | ⋯ |  0 | 70 | 50 |  TRUE | FALSE | FALSE | FALSE |  TRUE | FALSE | 4 |\n",
       "| 5 | 22 | 11563796810 | Centre | site-5 | Yes | FALSE |  TRUE | FALSE |  TRUE | FALSE | ⋯ |  0 |  0 | 50 |  TRUE |  TRUE |    NA |    NA |  TRUE | FALSE | 5 |\n",
       "| 6 |  9 | 11594652889 | Centre | site-6 | No  | FALSE | FALSE | FALSE | FALSE | FALSE | ⋯ |  0 | NA |  0 |  TRUE | FALSE | FALSE | FALSE |  TRUE |  TRUE | 6 |\n",
       "\n"
      ],
      "text/plain": [
       "  X  ID          centre name   staffreduced staffJDCOVID staffJDRedeploy\n",
       "1 18 11593373277 Unit   site-1 No           FALSE        FALSE          \n",
       "2 30 11555988746 Unit   site-2 No           FALSE        FALSE          \n",
       "3 55 11550243631 Centre site-3 Yes          FALSE         TRUE          \n",
       "4 13 11593709116 Unit   site-4 No           FALSE        FALSE          \n",
       "5 22 11563796810 Centre site-5 Yes          FALSE         TRUE          \n",
       "6  9 11594652889 Centre site-6 No           FALSE        FALSE          \n",
       "  staffGOCOVID staffGORedeploy staffConstCOVID ⋯ pallcapred gonvrred mdtworkred\n",
       "1 FALSE        FALSE           FALSE           ⋯ NA         10       20        \n",
       "2 FALSE        FALSE           FALSE           ⋯  0         10       20        \n",
       "3 FALSE        FALSE            TRUE           ⋯ NA         80       60        \n",
       "4 FALSE        FALSE           FALSE           ⋯  0         70       50        \n",
       "5 FALSE         TRUE           FALSE           ⋯  0          0       50        \n",
       "6 FALSE        FALSE           FALSE           ⋯  0         NA        0        \n",
       "  movepperlist moveclinic moveotheractivity movenotyet centralhub minaccesssurg\n",
       "1  TRUE        FALSE      FALSE             FALSE      FALSE      FALSE        \n",
       "2 FALSE        FALSE      FALSE              TRUE       TRUE       TRUE        \n",
       "3  TRUE        FALSE      FALSE                NA       TRUE       TRUE        \n",
       "4  TRUE        FALSE      FALSE             FALSE       TRUE      FALSE        \n",
       "5  TRUE         TRUE         NA                NA       TRUE      FALSE        \n",
       "6  TRUE        FALSE      FALSE             FALSE       TRUE       TRUE        \n",
       "  newname\n",
       "1 1      \n",
       "2 2      \n",
       "3 3      \n",
       "4 4      \n",
       "5 5      \n",
       "6 6      "
      ]
     },
     "metadata": {},
     "output_type": "display_data"
    }
   ],
   "source": [
    "mydta3 <- read.csv(\"200630-ukcogs-data.csv\")\n",
    "head(mydta3)"
   ]
  },
  {
   "cell_type": "markdown",
   "metadata": {},
   "source": [
    "# Analysis\n",
    "\n",
    "## Summary of hospitals"
   ]
  },
  {
   "cell_type": "code",
   "execution_count": 3,
   "metadata": {},
   "outputs": [
    {
     "data": {
      "text/html": [
       "<table>\n",
       "<caption>A xtable: 51 × 3</caption>\n",
       "<thead>\n",
       "\t<tr><th></th><th scope=col>Site</th><th scope=col>Number response</th><th scope=col>Type</th></tr>\n",
       "\t<tr><th></th><th scope=col>&lt;fct&gt;</th><th scope=col>&lt;fct&gt;</th><th scope=col>&lt;fct&gt;</th></tr>\n",
       "</thead>\n",
       "<tbody>\n",
       "\t<tr><th scope=row>X</th><td>10</td><td>1</td><td>Centre</td></tr>\n",
       "\t<tr><th scope=row>X.1</th><td>13</td><td>1</td><td>Centre</td></tr>\n",
       "\t<tr><th scope=row>X.2</th><td>15</td><td>1</td><td>Centre</td></tr>\n",
       "\t<tr><th scope=row>X.3</th><td>16</td><td>2</td><td>Centre</td></tr>\n",
       "\t<tr><th scope=row>X.4</th><td>18</td><td>1</td><td>Centre</td></tr>\n",
       "\t<tr><th scope=row>X.5</th><td>19</td><td>1</td><td>Centre</td></tr>\n",
       "\t<tr><th scope=row>X.6</th><td>20</td><td>3</td><td>Centre</td></tr>\n",
       "\t<tr><th scope=row>X.7</th><td>23</td><td>1</td><td>Centre</td></tr>\n",
       "\t<tr><th scope=row>X.8</th><td>24</td><td>2</td><td>Centre</td></tr>\n",
       "\t<tr><th scope=row>X.9</th><td>27</td><td>1</td><td>Centre</td></tr>\n",
       "\t<tr><th scope=row>X.10</th><td>28</td><td>1</td><td>Centre</td></tr>\n",
       "\t<tr><th scope=row>X.11</th><td>29</td><td>1</td><td>Centre</td></tr>\n",
       "\t<tr><th scope=row>X.12</th><td>3 </td><td>2</td><td>Centre</td></tr>\n",
       "\t<tr><th scope=row>X.13</th><td>30</td><td>1</td><td>Centre</td></tr>\n",
       "\t<tr><th scope=row>X.14</th><td>31</td><td>2</td><td>Centre</td></tr>\n",
       "\t<tr><th scope=row>X.15</th><td>33</td><td>1</td><td>Centre</td></tr>\n",
       "\t<tr><th scope=row>X.16</th><td>35</td><td>2</td><td>Centre</td></tr>\n",
       "\t<tr><th scope=row>X.17</th><td>37</td><td>1</td><td>Centre</td></tr>\n",
       "\t<tr><th scope=row>X.18</th><td>40</td><td>1</td><td>Centre</td></tr>\n",
       "\t<tr><th scope=row>X.19</th><td>41</td><td>4</td><td>Centre</td></tr>\n",
       "\t<tr><th scope=row>X.20</th><td>45</td><td>1</td><td>Centre</td></tr>\n",
       "\t<tr><th scope=row>X.21</th><td>46</td><td>1</td><td>Centre</td></tr>\n",
       "\t<tr><th scope=row>X.22</th><td>49</td><td>2</td><td>Centre</td></tr>\n",
       "\t<tr><th scope=row>X.23</th><td>5 </td><td>5</td><td>Centre</td></tr>\n",
       "\t<tr><th scope=row>X.24</th><td>51</td><td>1</td><td>Centre</td></tr>\n",
       "\t<tr><th scope=row>X.25</th><td>54</td><td>1</td><td>Centre</td></tr>\n",
       "\t<tr><th scope=row>X.26</th><td>56</td><td>3</td><td>Centre</td></tr>\n",
       "\t<tr><th scope=row>X.27</th><td>57</td><td>1</td><td>Centre</td></tr>\n",
       "\t<tr><th scope=row>X.28</th><td>58</td><td>1</td><td>Centre</td></tr>\n",
       "\t<tr><th scope=row>X.29</th><td>61</td><td>1</td><td>Centre</td></tr>\n",
       "\t<tr><th scope=row>X.30</th><td>63</td><td>1</td><td>Centre</td></tr>\n",
       "\t<tr><th scope=row>X.31</th><td>64</td><td>1</td><td>Centre</td></tr>\n",
       "\t<tr><th scope=row>X.32</th><td>1 </td><td>1</td><td>Unit  </td></tr>\n",
       "\t<tr><th scope=row>X.33</th><td>11</td><td>1</td><td>Unit  </td></tr>\n",
       "\t<tr><th scope=row>X.34</th><td>12</td><td>1</td><td>Unit  </td></tr>\n",
       "\t<tr><th scope=row>X.35</th><td>14</td><td>1</td><td>Unit  </td></tr>\n",
       "\t<tr><th scope=row>X.36</th><td>2 </td><td>1</td><td>Unit  </td></tr>\n",
       "\t<tr><th scope=row>X.37</th><td>26</td><td>1</td><td>Unit  </td></tr>\n",
       "\t<tr><th scope=row>X.38</th><td>34</td><td>1</td><td>Unit  </td></tr>\n",
       "\t<tr><th scope=row>X.39</th><td>38</td><td>1</td><td>Unit  </td></tr>\n",
       "\t<tr><th scope=row>X.40</th><td>39</td><td>1</td><td>Unit  </td></tr>\n",
       "\t<tr><th scope=row>X.41</th><td>47</td><td>2</td><td>Unit  </td></tr>\n",
       "\t<tr><th scope=row>X.42</th><td>52</td><td>1</td><td>Unit  </td></tr>\n",
       "\t<tr><th scope=row>X.43</th><td>53</td><td>1</td><td>Unit  </td></tr>\n",
       "\t<tr><th scope=row>X.44</th><td>55</td><td>1</td><td>Unit  </td></tr>\n",
       "\t<tr><th scope=row>X.45</th><td>59</td><td>1</td><td>Unit  </td></tr>\n",
       "\t<tr><th scope=row>X.46</th><td>60</td><td>1</td><td>Unit  </td></tr>\n",
       "\t<tr><th scope=row>X.47</th><td>62</td><td>1</td><td>Unit  </td></tr>\n",
       "\t<tr><th scope=row>X.48</th><td>65</td><td>1</td><td>Unit  </td></tr>\n",
       "\t<tr><th scope=row>X.49</th><td>66</td><td>1</td><td>Unit  </td></tr>\n",
       "\t<tr><th scope=row>X.50</th><td>69</td><td>1</td><td>Unit  </td></tr>\n",
       "</tbody>\n",
       "</table>\n"
      ],
      "text/latex": [
       "A xtable: 51 × 3\n",
       "\\begin{tabular}{r|lll}\n",
       "  & Site & Number response & Type\\\\\n",
       "  & <fct> & <fct> & <fct>\\\\\n",
       "\\hline\n",
       "\tX & 10 & 1 & Centre\\\\\n",
       "\tX.1 & 13 & 1 & Centre\\\\\n",
       "\tX.2 & 15 & 1 & Centre\\\\\n",
       "\tX.3 & 16 & 2 & Centre\\\\\n",
       "\tX.4 & 18 & 1 & Centre\\\\\n",
       "\tX.5 & 19 & 1 & Centre\\\\\n",
       "\tX.6 & 20 & 3 & Centre\\\\\n",
       "\tX.7 & 23 & 1 & Centre\\\\\n",
       "\tX.8 & 24 & 2 & Centre\\\\\n",
       "\tX.9 & 27 & 1 & Centre\\\\\n",
       "\tX.10 & 28 & 1 & Centre\\\\\n",
       "\tX.11 & 29 & 1 & Centre\\\\\n",
       "\tX.12 & 3  & 2 & Centre\\\\\n",
       "\tX.13 & 30 & 1 & Centre\\\\\n",
       "\tX.14 & 31 & 2 & Centre\\\\\n",
       "\tX.15 & 33 & 1 & Centre\\\\\n",
       "\tX.16 & 35 & 2 & Centre\\\\\n",
       "\tX.17 & 37 & 1 & Centre\\\\\n",
       "\tX.18 & 40 & 1 & Centre\\\\\n",
       "\tX.19 & 41 & 4 & Centre\\\\\n",
       "\tX.20 & 45 & 1 & Centre\\\\\n",
       "\tX.21 & 46 & 1 & Centre\\\\\n",
       "\tX.22 & 49 & 2 & Centre\\\\\n",
       "\tX.23 & 5  & 5 & Centre\\\\\n",
       "\tX.24 & 51 & 1 & Centre\\\\\n",
       "\tX.25 & 54 & 1 & Centre\\\\\n",
       "\tX.26 & 56 & 3 & Centre\\\\\n",
       "\tX.27 & 57 & 1 & Centre\\\\\n",
       "\tX.28 & 58 & 1 & Centre\\\\\n",
       "\tX.29 & 61 & 1 & Centre\\\\\n",
       "\tX.30 & 63 & 1 & Centre\\\\\n",
       "\tX.31 & 64 & 1 & Centre\\\\\n",
       "\tX.32 & 1  & 1 & Unit  \\\\\n",
       "\tX.33 & 11 & 1 & Unit  \\\\\n",
       "\tX.34 & 12 & 1 & Unit  \\\\\n",
       "\tX.35 & 14 & 1 & Unit  \\\\\n",
       "\tX.36 & 2  & 1 & Unit  \\\\\n",
       "\tX.37 & 26 & 1 & Unit  \\\\\n",
       "\tX.38 & 34 & 1 & Unit  \\\\\n",
       "\tX.39 & 38 & 1 & Unit  \\\\\n",
       "\tX.40 & 39 & 1 & Unit  \\\\\n",
       "\tX.41 & 47 & 2 & Unit  \\\\\n",
       "\tX.42 & 52 & 1 & Unit  \\\\\n",
       "\tX.43 & 53 & 1 & Unit  \\\\\n",
       "\tX.44 & 55 & 1 & Unit  \\\\\n",
       "\tX.45 & 59 & 1 & Unit  \\\\\n",
       "\tX.46 & 60 & 1 & Unit  \\\\\n",
       "\tX.47 & 62 & 1 & Unit  \\\\\n",
       "\tX.48 & 65 & 1 & Unit  \\\\\n",
       "\tX.49 & 66 & 1 & Unit  \\\\\n",
       "\tX.50 & 69 & 1 & Unit  \\\\\n",
       "\\end{tabular}\n"
      ],
      "text/markdown": [
       "\n",
       "A xtable: 51 × 3\n",
       "\n",
       "| <!--/--> | Site &lt;fct&gt; | Number response &lt;fct&gt; | Type &lt;fct&gt; |\n",
       "|---|---|---|---|\n",
       "| X | 10 | 1 | Centre |\n",
       "| X.1 | 13 | 1 | Centre |\n",
       "| X.2 | 15 | 1 | Centre |\n",
       "| X.3 | 16 | 2 | Centre |\n",
       "| X.4 | 18 | 1 | Centre |\n",
       "| X.5 | 19 | 1 | Centre |\n",
       "| X.6 | 20 | 3 | Centre |\n",
       "| X.7 | 23 | 1 | Centre |\n",
       "| X.8 | 24 | 2 | Centre |\n",
       "| X.9 | 27 | 1 | Centre |\n",
       "| X.10 | 28 | 1 | Centre |\n",
       "| X.11 | 29 | 1 | Centre |\n",
       "| X.12 | 3  | 2 | Centre |\n",
       "| X.13 | 30 | 1 | Centre |\n",
       "| X.14 | 31 | 2 | Centre |\n",
       "| X.15 | 33 | 1 | Centre |\n",
       "| X.16 | 35 | 2 | Centre |\n",
       "| X.17 | 37 | 1 | Centre |\n",
       "| X.18 | 40 | 1 | Centre |\n",
       "| X.19 | 41 | 4 | Centre |\n",
       "| X.20 | 45 | 1 | Centre |\n",
       "| X.21 | 46 | 1 | Centre |\n",
       "| X.22 | 49 | 2 | Centre |\n",
       "| X.23 | 5  | 5 | Centre |\n",
       "| X.24 | 51 | 1 | Centre |\n",
       "| X.25 | 54 | 1 | Centre |\n",
       "| X.26 | 56 | 3 | Centre |\n",
       "| X.27 | 57 | 1 | Centre |\n",
       "| X.28 | 58 | 1 | Centre |\n",
       "| X.29 | 61 | 1 | Centre |\n",
       "| X.30 | 63 | 1 | Centre |\n",
       "| X.31 | 64 | 1 | Centre |\n",
       "| X.32 | 1  | 1 | Unit   |\n",
       "| X.33 | 11 | 1 | Unit   |\n",
       "| X.34 | 12 | 1 | Unit   |\n",
       "| X.35 | 14 | 1 | Unit   |\n",
       "| X.36 | 2  | 1 | Unit   |\n",
       "| X.37 | 26 | 1 | Unit   |\n",
       "| X.38 | 34 | 1 | Unit   |\n",
       "| X.39 | 38 | 1 | Unit   |\n",
       "| X.40 | 39 | 1 | Unit   |\n",
       "| X.41 | 47 | 2 | Unit   |\n",
       "| X.42 | 52 | 1 | Unit   |\n",
       "| X.43 | 53 | 1 | Unit   |\n",
       "| X.44 | 55 | 1 | Unit   |\n",
       "| X.45 | 59 | 1 | Unit   |\n",
       "| X.46 | 60 | 1 | Unit   |\n",
       "| X.47 | 62 | 1 | Unit   |\n",
       "| X.48 | 65 | 1 | Unit   |\n",
       "| X.49 | 66 | 1 | Unit   |\n",
       "| X.50 | 69 | 1 | Unit   |\n",
       "\n"
      ],
      "text/plain": [
       "     Site Number response Type  \n",
       "X    10   1               Centre\n",
       "X.1  13   1               Centre\n",
       "X.2  15   1               Centre\n",
       "X.3  16   2               Centre\n",
       "X.4  18   1               Centre\n",
       "X.5  19   1               Centre\n",
       "X.6  20   3               Centre\n",
       "X.7  23   1               Centre\n",
       "X.8  24   2               Centre\n",
       "X.9  27   1               Centre\n",
       "X.10 28   1               Centre\n",
       "X.11 29   1               Centre\n",
       "X.12 3    2               Centre\n",
       "X.13 30   1               Centre\n",
       "X.14 31   2               Centre\n",
       "X.15 33   1               Centre\n",
       "X.16 35   2               Centre\n",
       "X.17 37   1               Centre\n",
       "X.18 40   1               Centre\n",
       "X.19 41   4               Centre\n",
       "X.20 45   1               Centre\n",
       "X.21 46   1               Centre\n",
       "X.22 49   2               Centre\n",
       "X.23 5    5               Centre\n",
       "X.24 51   1               Centre\n",
       "X.25 54   1               Centre\n",
       "X.26 56   3               Centre\n",
       "X.27 57   1               Centre\n",
       "X.28 58   1               Centre\n",
       "X.29 61   1               Centre\n",
       "X.30 63   1               Centre\n",
       "X.31 64   1               Centre\n",
       "X.32 1    1               Unit  \n",
       "X.33 11   1               Unit  \n",
       "X.34 12   1               Unit  \n",
       "X.35 14   1               Unit  \n",
       "X.36 2    1               Unit  \n",
       "X.37 26   1               Unit  \n",
       "X.38 34   1               Unit  \n",
       "X.39 38   1               Unit  \n",
       "X.40 39   1               Unit  \n",
       "X.41 47   2               Unit  \n",
       "X.42 52   1               Unit  \n",
       "X.43 53   1               Unit  \n",
       "X.44 55   1               Unit  \n",
       "X.45 59   1               Unit  \n",
       "X.46 60   1               Unit  \n",
       "X.47 62   1               Unit  \n",
       "X.48 65   1               Unit  \n",
       "X.49 66   1               Unit  \n",
       "X.50 69   1               Unit  "
      ]
     },
     "metadata": {},
     "output_type": "display_data"
    },
    {
     "data": {
      "text/plain": [
       "   \n",
       "    Centre Unit\n",
       "  1     22   18\n",
       "  2      6    1\n",
       "  3      2    0\n",
       "  4      1    0\n",
       "  5      1    0"
      ]
     },
     "metadata": {},
     "output_type": "display_data"
    }
   ],
   "source": [
    "##############\n",
    "## Basic summaries\n",
    "\n",
    "t.inc<-!duplicated(mydta3$newname)\n",
    "\n",
    "mynumberresp <- tapply(mydta3$ID, mydta3$newname, length)\n",
    "\n",
    "mydtasummary <- mydta3[t.inc,]\n",
    "\n",
    "mysummary <- cbind( mydtasummary$name,mynumberresp,as.character(mydtasummary$centre))\n",
    "\n",
    "mysummary <- mysummary[order(mysummary[,3], mysummary[,1], mysummary[,2]),]\n",
    "\n",
    "colnames(mysummary) <- c(\"Site\", \"Number response\", \"Type\")\n",
    "\n",
    "rownames(mysummary) <- rep(\"\", nrow(mysummary))\n",
    "\n",
    "xtable(mysummary, align=\"llrc\", include.rownames=FALSE)\n",
    "\n",
    "table(mysummary[,2], mysummary[,3])\n"
   ]
  },
  {
   "cell_type": "markdown",
   "metadata": {},
   "source": [
    "The sites that responded to the questionnaire are listed above, with information on the number of people who completed a form and site type (centre or unit).\n",
    "\n",
    "In total there were 34 centres and 19 units"
   ]
  },
  {
   "cell_type": "code",
   "execution_count": 4,
   "metadata": {},
   "outputs": [
    {
     "data": {
      "text/plain": [
       "\n",
       "Centre   Unit \n",
       "    32     19 "
      ]
     },
     "metadata": {},
     "output_type": "display_data"
    }
   ],
   "source": [
    "table(mysummary[,3])"
   ]
  },
  {
   "cell_type": "markdown",
   "metadata": {},
   "source": [
    "## Regarding staffing, have you experienced significant reduction in staff numbers?"
   ]
  },
  {
   "cell_type": "code",
   "execution_count": 5,
   "metadata": {},
   "outputs": [],
   "source": [
    "################################################\n",
    "## Discrepancy within some centre responses\n",
    "\n",
    "##remove 11550771438 - not agreed with others\n",
    "mydta3 <- mydta3[!(mydta3$ID==11550771438),]\n",
    "\n",
    "##remove 11561304662 - not agreed with others\n",
    "mydta3 <- mydta3[!(mydta3$ID==11561304662),]\n",
    "\n",
    "##remove 11596521251 - not agreed with others\n",
    "mydta3 <- mydta3[!(mydta3$ID==11596521251),]\n",
    "\n",
    "##remove 11549791528 - not agreed with others\n",
    "mydta3 <- mydta3[!(mydta3$ID==11549791528),]"
   ]
  },
  {
   "cell_type": "markdown",
   "metadata": {},
   "source": [
    "Some centres had different answers regarding staffing reductions. \n",
    "\n",
    "In what follows we assumed that a site had seen a reduction in staffing if one respondant said their had been."
   ]
  },
  {
   "cell_type": "code",
   "execution_count": 6,
   "metadata": {},
   "outputs": [
    {
     "name": "stdout",
     "output_type": "stream",
     "text": [
      "[1] \"Centre / Units with reduction in staff\"\n"
     ]
    },
    {
     "data": {
      "text/html": [
       "<style>\n",
       ".list-inline {list-style: none; margin:0; padding: 0}\n",
       ".list-inline>li {display: inline-block}\n",
       ".list-inline>li:not(:last-child)::after {content: \"\\00b7\"; padding: 0 .5ex}\n",
       "</style>\n",
       "<ol class=list-inline><li>site-3</li><li>site-5</li><li>site-10</li><li>site-11</li><li>site-20</li><li>site-25</li><li>site-28</li><li>site-31</li><li>site-32</li><li>site-33</li><li>site-36</li><li>site-38</li><li>site-43</li><li>site-44</li><li>site-46</li><li>site-50</li><li>site-53</li><li>site-55</li><li>site-56</li><li>site-58</li><li>site-60</li><li>site-61</li><li>site-63</li><li>site-68</li><li>site-69</li></ol>\n",
       "\n",
       "<details>\n",
       "\t<summary style=display:list-item;cursor:pointer>\n",
       "\t\t<strong>Levels</strong>:\n",
       "\t</summary>\n",
       "\t<style>\n",
       "\t.list-inline {list-style: none; margin:0; padding: 0}\n",
       "\t.list-inline>li {display: inline-block}\n",
       "\t.list-inline>li:not(:last-child)::after {content: \"\\00b7\"; padding: 0 .5ex}\n",
       "\t</style>\n",
       "\t<ol class=list-inline><li>'site-1'</li><li>'site-10'</li><li>'site-11'</li><li>'site-12'</li><li>'site-13'</li><li>'site-14'</li><li>'site-15'</li><li>'site-16'</li><li>'site-17'</li><li>'site-18'</li><li>'site-19'</li><li>'site-2'</li><li>'site-20'</li><li>'site-21'</li><li>'site-22'</li><li>'site-23'</li><li>'site-24'</li><li>'site-25'</li><li>'site-26'</li><li>'site-27'</li><li>'site-28'</li><li>'site-29'</li><li>'site-3'</li><li>'site-30'</li><li>'site-31'</li><li>'site-32'</li><li>'site-33'</li><li>'site-34'</li><li>'site-35'</li><li>'site-36'</li><li>'site-37'</li><li>'site-38'</li><li>'site-39'</li><li>'site-4'</li><li>'site-40'</li><li>'site-41'</li><li>'site-42'</li><li>'site-43'</li><li>'site-44'</li><li>'site-45'</li><li>'site-46'</li><li>'site-47'</li><li>'site-48'</li><li>'site-49'</li><li>'site-5'</li><li>'site-50'</li><li>'site-51'</li><li>'site-52'</li><li>'site-53'</li><li>'site-54'</li><li>'site-55'</li><li>'site-56'</li><li>'site-57'</li><li>'site-58'</li><li>'site-59'</li><li>'site-6'</li><li>'site-60'</li><li>'site-61'</li><li>'site-62'</li><li>'site-63'</li><li>'site-64'</li><li>'site-65'</li><li>'site-66'</li><li>'site-67'</li><li>'site-68'</li><li>'site-69'</li><li>'site-7'</li><li>'site-8'</li><li>'site-9'</li></ol>\n",
       "</details>"
      ],
      "text/latex": [
       "\\begin{enumerate*}\n",
       "\\item site-3\n",
       "\\item site-5\n",
       "\\item site-10\n",
       "\\item site-11\n",
       "\\item site-20\n",
       "\\item site-25\n",
       "\\item site-28\n",
       "\\item site-31\n",
       "\\item site-32\n",
       "\\item site-33\n",
       "\\item site-36\n",
       "\\item site-38\n",
       "\\item site-43\n",
       "\\item site-44\n",
       "\\item site-46\n",
       "\\item site-50\n",
       "\\item site-53\n",
       "\\item site-55\n",
       "\\item site-56\n",
       "\\item site-58\n",
       "\\item site-60\n",
       "\\item site-61\n",
       "\\item site-63\n",
       "\\item site-68\n",
       "\\item site-69\n",
       "\\end{enumerate*}\n",
       "\n",
       "\\emph{Levels}: \\begin{enumerate*}\n",
       "\\item 'site-1'\n",
       "\\item 'site-10'\n",
       "\\item 'site-11'\n",
       "\\item 'site-12'\n",
       "\\item 'site-13'\n",
       "\\item 'site-14'\n",
       "\\item 'site-15'\n",
       "\\item 'site-16'\n",
       "\\item 'site-17'\n",
       "\\item 'site-18'\n",
       "\\item 'site-19'\n",
       "\\item 'site-2'\n",
       "\\item 'site-20'\n",
       "\\item 'site-21'\n",
       "\\item 'site-22'\n",
       "\\item 'site-23'\n",
       "\\item 'site-24'\n",
       "\\item 'site-25'\n",
       "\\item 'site-26'\n",
       "\\item 'site-27'\n",
       "\\item 'site-28'\n",
       "\\item 'site-29'\n",
       "\\item 'site-3'\n",
       "\\item 'site-30'\n",
       "\\item 'site-31'\n",
       "\\item 'site-32'\n",
       "\\item 'site-33'\n",
       "\\item 'site-34'\n",
       "\\item 'site-35'\n",
       "\\item 'site-36'\n",
       "\\item 'site-37'\n",
       "\\item 'site-38'\n",
       "\\item 'site-39'\n",
       "\\item 'site-4'\n",
       "\\item 'site-40'\n",
       "\\item 'site-41'\n",
       "\\item 'site-42'\n",
       "\\item 'site-43'\n",
       "\\item 'site-44'\n",
       "\\item 'site-45'\n",
       "\\item 'site-46'\n",
       "\\item 'site-47'\n",
       "\\item 'site-48'\n",
       "\\item 'site-49'\n",
       "\\item 'site-5'\n",
       "\\item 'site-50'\n",
       "\\item 'site-51'\n",
       "\\item 'site-52'\n",
       "\\item 'site-53'\n",
       "\\item 'site-54'\n",
       "\\item 'site-55'\n",
       "\\item 'site-56'\n",
       "\\item 'site-57'\n",
       "\\item 'site-58'\n",
       "\\item 'site-59'\n",
       "\\item 'site-6'\n",
       "\\item 'site-60'\n",
       "\\item 'site-61'\n",
       "\\item 'site-62'\n",
       "\\item 'site-63'\n",
       "\\item 'site-64'\n",
       "\\item 'site-65'\n",
       "\\item 'site-66'\n",
       "\\item 'site-67'\n",
       "\\item 'site-68'\n",
       "\\item 'site-69'\n",
       "\\item 'site-7'\n",
       "\\item 'site-8'\n",
       "\\item 'site-9'\n",
       "\\end{enumerate*}\n"
      ],
      "text/markdown": [
       "1. site-3\n",
       "2. site-5\n",
       "3. site-10\n",
       "4. site-11\n",
       "5. site-20\n",
       "6. site-25\n",
       "7. site-28\n",
       "8. site-31\n",
       "9. site-32\n",
       "10. site-33\n",
       "11. site-36\n",
       "12. site-38\n",
       "13. site-43\n",
       "14. site-44\n",
       "15. site-46\n",
       "16. site-50\n",
       "17. site-53\n",
       "18. site-55\n",
       "19. site-56\n",
       "20. site-58\n",
       "21. site-60\n",
       "22. site-61\n",
       "23. site-63\n",
       "24. site-68\n",
       "25. site-69\n",
       "\n",
       "\n",
       "\n",
       "**Levels**: 1. 'site-1'\n",
       "2. 'site-10'\n",
       "3. 'site-11'\n",
       "4. 'site-12'\n",
       "5. 'site-13'\n",
       "6. 'site-14'\n",
       "7. 'site-15'\n",
       "8. 'site-16'\n",
       "9. 'site-17'\n",
       "10. 'site-18'\n",
       "11. 'site-19'\n",
       "12. 'site-2'\n",
       "13. 'site-20'\n",
       "14. 'site-21'\n",
       "15. 'site-22'\n",
       "16. 'site-23'\n",
       "17. 'site-24'\n",
       "18. 'site-25'\n",
       "19. 'site-26'\n",
       "20. 'site-27'\n",
       "21. 'site-28'\n",
       "22. 'site-29'\n",
       "23. 'site-3'\n",
       "24. 'site-30'\n",
       "25. 'site-31'\n",
       "26. 'site-32'\n",
       "27. 'site-33'\n",
       "28. 'site-34'\n",
       "29. 'site-35'\n",
       "30. 'site-36'\n",
       "31. 'site-37'\n",
       "32. 'site-38'\n",
       "33. 'site-39'\n",
       "34. 'site-4'\n",
       "35. 'site-40'\n",
       "36. 'site-41'\n",
       "37. 'site-42'\n",
       "38. 'site-43'\n",
       "39. 'site-44'\n",
       "40. 'site-45'\n",
       "41. 'site-46'\n",
       "42. 'site-47'\n",
       "43. 'site-48'\n",
       "44. 'site-49'\n",
       "45. 'site-5'\n",
       "46. 'site-50'\n",
       "47. 'site-51'\n",
       "48. 'site-52'\n",
       "49. 'site-53'\n",
       "50. 'site-54'\n",
       "51. 'site-55'\n",
       "52. 'site-56'\n",
       "53. 'site-57'\n",
       "54. 'site-58'\n",
       "55. 'site-59'\n",
       "56. 'site-6'\n",
       "57. 'site-60'\n",
       "58. 'site-61'\n",
       "59. 'site-62'\n",
       "60. 'site-63'\n",
       "61. 'site-64'\n",
       "62. 'site-65'\n",
       "63. 'site-66'\n",
       "64. 'site-67'\n",
       "65. 'site-68'\n",
       "66. 'site-69'\n",
       "67. 'site-7'\n",
       "68. 'site-8'\n",
       "69. 'site-9'\n",
       "\n",
       "\n"
      ],
      "text/plain": [
       " [1] site-3  site-5  site-10 site-11 site-20 site-25 site-28 site-31 site-32\n",
       "[10] site-33 site-36 site-38 site-43 site-44 site-46 site-50 site-53 site-55\n",
       "[19] site-56 site-58 site-60 site-61 site-63 site-68 site-69\n",
       "69 Levels: site-1 site-10 site-11 site-12 site-13 site-14 site-15 ... site-9"
      ]
     },
     "metadata": {},
     "output_type": "display_data"
    },
    {
     "name": "stdout",
     "output_type": "stream",
     "text": [
      "[1] \"Centre / Units with NO reduction in staff\"\n"
     ]
    },
    {
     "data": {
      "text/html": [
       "<style>\n",
       ".list-inline {list-style: none; margin:0; padding: 0}\n",
       ".list-inline>li {display: inline-block}\n",
       ".list-inline>li:not(:last-child)::after {content: \"\\00b7\"; padding: 0 .5ex}\n",
       "</style>\n",
       "<ol class=list-inline><li>site-1</li><li>site-2</li><li>site-4</li><li>site-6</li><li>site-9</li><li>site-13</li><li>site-18</li><li>site-19</li><li>site-21</li><li>site-22</li><li>site-23</li><li>site-26</li><li>site-34</li><li>site-35</li><li>site-39</li><li>site-40</li><li>site-42</li><li>site-45</li><li>site-51</li><li>site-57</li><li>site-59</li><li>site-62</li><li>site-64</li><li>site-65</li><li>site-66</li><li>site-67</li></ol>\n",
       "\n",
       "<details>\n",
       "\t<summary style=display:list-item;cursor:pointer>\n",
       "\t\t<strong>Levels</strong>:\n",
       "\t</summary>\n",
       "\t<style>\n",
       "\t.list-inline {list-style: none; margin:0; padding: 0}\n",
       "\t.list-inline>li {display: inline-block}\n",
       "\t.list-inline>li:not(:last-child)::after {content: \"\\00b7\"; padding: 0 .5ex}\n",
       "\t</style>\n",
       "\t<ol class=list-inline><li>'site-1'</li><li>'site-10'</li><li>'site-11'</li><li>'site-12'</li><li>'site-13'</li><li>'site-14'</li><li>'site-15'</li><li>'site-16'</li><li>'site-17'</li><li>'site-18'</li><li>'site-19'</li><li>'site-2'</li><li>'site-20'</li><li>'site-21'</li><li>'site-22'</li><li>'site-23'</li><li>'site-24'</li><li>'site-25'</li><li>'site-26'</li><li>'site-27'</li><li>'site-28'</li><li>'site-29'</li><li>'site-3'</li><li>'site-30'</li><li>'site-31'</li><li>'site-32'</li><li>'site-33'</li><li>'site-34'</li><li>'site-35'</li><li>'site-36'</li><li>'site-37'</li><li>'site-38'</li><li>'site-39'</li><li>'site-4'</li><li>'site-40'</li><li>'site-41'</li><li>'site-42'</li><li>'site-43'</li><li>'site-44'</li><li>'site-45'</li><li>'site-46'</li><li>'site-47'</li><li>'site-48'</li><li>'site-49'</li><li>'site-5'</li><li>'site-50'</li><li>'site-51'</li><li>'site-52'</li><li>'site-53'</li><li>'site-54'</li><li>'site-55'</li><li>'site-56'</li><li>'site-57'</li><li>'site-58'</li><li>'site-59'</li><li>'site-6'</li><li>'site-60'</li><li>'site-61'</li><li>'site-62'</li><li>'site-63'</li><li>'site-64'</li><li>'site-65'</li><li>'site-66'</li><li>'site-67'</li><li>'site-68'</li><li>'site-69'</li><li>'site-7'</li><li>'site-8'</li><li>'site-9'</li></ol>\n",
       "</details>"
      ],
      "text/latex": [
       "\\begin{enumerate*}\n",
       "\\item site-1\n",
       "\\item site-2\n",
       "\\item site-4\n",
       "\\item site-6\n",
       "\\item site-9\n",
       "\\item site-13\n",
       "\\item site-18\n",
       "\\item site-19\n",
       "\\item site-21\n",
       "\\item site-22\n",
       "\\item site-23\n",
       "\\item site-26\n",
       "\\item site-34\n",
       "\\item site-35\n",
       "\\item site-39\n",
       "\\item site-40\n",
       "\\item site-42\n",
       "\\item site-45\n",
       "\\item site-51\n",
       "\\item site-57\n",
       "\\item site-59\n",
       "\\item site-62\n",
       "\\item site-64\n",
       "\\item site-65\n",
       "\\item site-66\n",
       "\\item site-67\n",
       "\\end{enumerate*}\n",
       "\n",
       "\\emph{Levels}: \\begin{enumerate*}\n",
       "\\item 'site-1'\n",
       "\\item 'site-10'\n",
       "\\item 'site-11'\n",
       "\\item 'site-12'\n",
       "\\item 'site-13'\n",
       "\\item 'site-14'\n",
       "\\item 'site-15'\n",
       "\\item 'site-16'\n",
       "\\item 'site-17'\n",
       "\\item 'site-18'\n",
       "\\item 'site-19'\n",
       "\\item 'site-2'\n",
       "\\item 'site-20'\n",
       "\\item 'site-21'\n",
       "\\item 'site-22'\n",
       "\\item 'site-23'\n",
       "\\item 'site-24'\n",
       "\\item 'site-25'\n",
       "\\item 'site-26'\n",
       "\\item 'site-27'\n",
       "\\item 'site-28'\n",
       "\\item 'site-29'\n",
       "\\item 'site-3'\n",
       "\\item 'site-30'\n",
       "\\item 'site-31'\n",
       "\\item 'site-32'\n",
       "\\item 'site-33'\n",
       "\\item 'site-34'\n",
       "\\item 'site-35'\n",
       "\\item 'site-36'\n",
       "\\item 'site-37'\n",
       "\\item 'site-38'\n",
       "\\item 'site-39'\n",
       "\\item 'site-4'\n",
       "\\item 'site-40'\n",
       "\\item 'site-41'\n",
       "\\item 'site-42'\n",
       "\\item 'site-43'\n",
       "\\item 'site-44'\n",
       "\\item 'site-45'\n",
       "\\item 'site-46'\n",
       "\\item 'site-47'\n",
       "\\item 'site-48'\n",
       "\\item 'site-49'\n",
       "\\item 'site-5'\n",
       "\\item 'site-50'\n",
       "\\item 'site-51'\n",
       "\\item 'site-52'\n",
       "\\item 'site-53'\n",
       "\\item 'site-54'\n",
       "\\item 'site-55'\n",
       "\\item 'site-56'\n",
       "\\item 'site-57'\n",
       "\\item 'site-58'\n",
       "\\item 'site-59'\n",
       "\\item 'site-6'\n",
       "\\item 'site-60'\n",
       "\\item 'site-61'\n",
       "\\item 'site-62'\n",
       "\\item 'site-63'\n",
       "\\item 'site-64'\n",
       "\\item 'site-65'\n",
       "\\item 'site-66'\n",
       "\\item 'site-67'\n",
       "\\item 'site-68'\n",
       "\\item 'site-69'\n",
       "\\item 'site-7'\n",
       "\\item 'site-8'\n",
       "\\item 'site-9'\n",
       "\\end{enumerate*}\n"
      ],
      "text/markdown": [
       "1. site-1\n",
       "2. site-2\n",
       "3. site-4\n",
       "4. site-6\n",
       "5. site-9\n",
       "6. site-13\n",
       "7. site-18\n",
       "8. site-19\n",
       "9. site-21\n",
       "10. site-22\n",
       "11. site-23\n",
       "12. site-26\n",
       "13. site-34\n",
       "14. site-35\n",
       "15. site-39\n",
       "16. site-40\n",
       "17. site-42\n",
       "18. site-45\n",
       "19. site-51\n",
       "20. site-57\n",
       "21. site-59\n",
       "22. site-62\n",
       "23. site-64\n",
       "24. site-65\n",
       "25. site-66\n",
       "26. site-67\n",
       "\n",
       "\n",
       "\n",
       "**Levels**: 1. 'site-1'\n",
       "2. 'site-10'\n",
       "3. 'site-11'\n",
       "4. 'site-12'\n",
       "5. 'site-13'\n",
       "6. 'site-14'\n",
       "7. 'site-15'\n",
       "8. 'site-16'\n",
       "9. 'site-17'\n",
       "10. 'site-18'\n",
       "11. 'site-19'\n",
       "12. 'site-2'\n",
       "13. 'site-20'\n",
       "14. 'site-21'\n",
       "15. 'site-22'\n",
       "16. 'site-23'\n",
       "17. 'site-24'\n",
       "18. 'site-25'\n",
       "19. 'site-26'\n",
       "20. 'site-27'\n",
       "21. 'site-28'\n",
       "22. 'site-29'\n",
       "23. 'site-3'\n",
       "24. 'site-30'\n",
       "25. 'site-31'\n",
       "26. 'site-32'\n",
       "27. 'site-33'\n",
       "28. 'site-34'\n",
       "29. 'site-35'\n",
       "30. 'site-36'\n",
       "31. 'site-37'\n",
       "32. 'site-38'\n",
       "33. 'site-39'\n",
       "34. 'site-4'\n",
       "35. 'site-40'\n",
       "36. 'site-41'\n",
       "37. 'site-42'\n",
       "38. 'site-43'\n",
       "39. 'site-44'\n",
       "40. 'site-45'\n",
       "41. 'site-46'\n",
       "42. 'site-47'\n",
       "43. 'site-48'\n",
       "44. 'site-49'\n",
       "45. 'site-5'\n",
       "46. 'site-50'\n",
       "47. 'site-51'\n",
       "48. 'site-52'\n",
       "49. 'site-53'\n",
       "50. 'site-54'\n",
       "51. 'site-55'\n",
       "52. 'site-56'\n",
       "53. 'site-57'\n",
       "54. 'site-58'\n",
       "55. 'site-59'\n",
       "56. 'site-6'\n",
       "57. 'site-60'\n",
       "58. 'site-61'\n",
       "59. 'site-62'\n",
       "60. 'site-63'\n",
       "61. 'site-64'\n",
       "62. 'site-65'\n",
       "63. 'site-66'\n",
       "64. 'site-67'\n",
       "65. 'site-68'\n",
       "66. 'site-69'\n",
       "67. 'site-7'\n",
       "68. 'site-8'\n",
       "69. 'site-9'\n",
       "\n",
       "\n"
      ],
      "text/plain": [
       " [1] site-1  site-2  site-4  site-6  site-9  site-13 site-18 site-19 site-21\n",
       "[10] site-22 site-23 site-26 site-34 site-35 site-39 site-40 site-42 site-45\n",
       "[19] site-51 site-57 site-59 site-62 site-64 site-65 site-66 site-67\n",
       "69 Levels: site-1 site-10 site-11 site-12 site-13 site-14 site-15 ... site-9"
      ]
     },
     "metadata": {},
     "output_type": "display_data"
    },
    {
     "name": "stdout",
     "output_type": "stream",
     "text": [
      "[1] \"== summary ==\"\n",
      "[1] \"Centre / Units with reduction in staff\"\n"
     ]
    },
    {
     "data": {
      "text/plain": [
       "\n",
       "Centre   Unit \n",
       "    17      8 "
      ]
     },
     "metadata": {},
     "output_type": "display_data"
    },
    {
     "name": "stdout",
     "output_type": "stream",
     "text": [
      "[1] \"Centre / Units with NO reduction in staff\"\n"
     ]
    },
    {
     "data": {
      "text/plain": [
       "\n",
       "Centre   Unit \n",
       "    15     11 "
      ]
     },
     "metadata": {},
     "output_type": "display_data"
    }
   ],
   "source": [
    "mystaffred <- tapply(as.character(mydta3$staffreduced), mydta3$newname, function(ind) mean(ind==\"Yes\"))\n",
    "\n",
    "##centres staff reduced\n",
    "centre.red <- mydta3$newname %in% names(mystaffred)[mystaffred>0]\n",
    "\n",
    "mydta4a <- mydta3[centre.red,]\n",
    "\n",
    "mydta4a$newname <- as.factor(as.character(mydta4a$newname))\n",
    "\n",
    "mydta4b <- mydta3[!centre.red,c(1,2,3,4,5,18:41)]\n",
    "                     \n",
    "mydta4b$newname <- as.factor(as.character(mydta4b$newname))\n",
    "                    \n",
    "## Write CSV files for to separate by sites that saw a reduction and those that did not\n",
    "write.csv(mydta4a, file=\"output/staffred-all.csv\")\n",
    "\n",
    "write.csv(mydta4b, file=\"output/staffOK-all.csv\")\n",
    "\n",
    "## summary unit / centre\n",
    "mydta4au <- mydta4a[!duplicated(mydta4a$newname),]\n",
    "                     \n",
    "mydta4bu <- mydta4b[!duplicated(mydta4b$newname),]\n",
    "\n",
    "print(\"Centre / Units with reduction in staff\")                     \n",
    "\n",
    "mydta4au$name                     \n",
    "\n",
    "print(\"Centre / Units with NO reduction in staff\")                     \n",
    "\n",
    "mydta4bu$name                     \n",
    "                     \n",
    "print(\"== summary ==\")                     \n",
    "                     \n",
    "print(\"Centre / Units with reduction in staff\")                     \n",
    "                     \n",
    "table(mydta4au$centre)\n",
    "\n",
    "print(\"Centre / Units with NO reduction in staff\")    \n",
    "                     \n",
    "table(mydta4bu$centre)              "
   ]
  },
  {
   "cell_type": "code",
   "execution_count": 7,
   "metadata": {},
   "outputs": [
    {
     "data": {
      "text/html": [
       "<table>\n",
       "<caption>A data.frame: 25 × 12</caption>\n",
       "<thead>\n",
       "\t<tr><th></th><th scope=col>staffJDCOVID</th><th scope=col>staffJDRedeploy</th><th scope=col>staffGOCOVID</th><th scope=col>staffGORedeploy</th><th scope=col>staffConstCOVID</th><th scope=col>staffConstRedeploy</th><th scope=col>staffCNSCOVID</th><th scope=col>staffCNSRedeploy</th><th scope=col>staffJDred</th><th scope=col>staffGOred</th><th scope=col>staffCONred</th><th scope=col>staffCNSred</th></tr>\n",
       "\t<tr><th></th><th scope=col>&lt;dbl&gt;</th><th scope=col>&lt;dbl&gt;</th><th scope=col>&lt;dbl&gt;</th><th scope=col>&lt;dbl&gt;</th><th scope=col>&lt;dbl&gt;</th><th scope=col>&lt;dbl&gt;</th><th scope=col>&lt;dbl&gt;</th><th scope=col>&lt;dbl&gt;</th><th scope=col>&lt;dbl&gt;</th><th scope=col>&lt;dbl&gt;</th><th scope=col>&lt;dbl&gt;</th><th scope=col>&lt;dbl&gt;</th></tr>\n",
       "</thead>\n",
       "<tbody>\n",
       "\t<tr><th scope=row>13</th><td>0</td><td>0</td><td>0</td><td>0</td><td>1</td><td>0</td><td>0</td><td>0</td><td>  NaN</td><td>NaN</td><td>25.0</td><td> NaN</td></tr>\n",
       "\t<tr><th scope=row>17</th><td>1</td><td>0</td><td>0</td><td>0</td><td>1</td><td>0</td><td>0</td><td>0</td><td> 15.0</td><td>NaN</td><td>50.0</td><td> NaN</td></tr>\n",
       "\t<tr><th scope=row>19</th><td>1</td><td>1</td><td>0</td><td>1</td><td>0</td><td>0</td><td>0</td><td>0</td><td> 25.0</td><td>100</td><td>17.0</td><td> NaN</td></tr>\n",
       "\t<tr><th scope=row>20</th><td>0</td><td>1</td><td>0</td><td>1</td><td>0</td><td>0</td><td>0</td><td>0</td><td>100.0</td><td>100</td><td> 0.0</td><td> 0.0</td></tr>\n",
       "\t<tr><th scope=row>21</th><td>1</td><td>0</td><td>0</td><td>0</td><td>1</td><td>0</td><td>1</td><td>1</td><td> 30.0</td><td>NaN</td><td>30.0</td><td>80.0</td></tr>\n",
       "\t<tr><th scope=row>22</th><td>1</td><td>0</td><td>1</td><td>0</td><td>1</td><td>0</td><td>0</td><td>1</td><td>100.0</td><td>100</td><td>70.0</td><td>30.0</td></tr>\n",
       "\t<tr><th scope=row>24</th><td>1</td><td>0</td><td>0</td><td>0</td><td>1</td><td>0</td><td>0</td><td>0</td><td> 15.0</td><td>  0</td><td>50.0</td><td> 0.0</td></tr>\n",
       "\t<tr><th scope=row>26</th><td>1</td><td>0</td><td>1</td><td>0</td><td>1</td><td>0</td><td>1</td><td>0</td><td> 30.0</td><td>100</td><td>20.0</td><td>20.0</td></tr>\n",
       "\t<tr><th scope=row>3</th><td>0</td><td>1</td><td>0</td><td>0</td><td>1</td><td>0</td><td>0</td><td>1</td><td> 60.0</td><td>  0</td><td>20.0</td><td>30.0</td></tr>\n",
       "\t<tr><th scope=row>30</th><td>1</td><td>1</td><td>0</td><td>1</td><td>1</td><td>0</td><td>0</td><td>1</td><td> 40.0</td><td> 30</td><td>40.0</td><td>20.0</td></tr>\n",
       "\t<tr><th scope=row>31</th><td>0</td><td>1</td><td>0</td><td>0</td><td>0</td><td>0</td><td>0</td><td>0</td><td> 25.0</td><td>  0</td><td> NaN</td><td> 0.0</td></tr>\n",
       "\t<tr><th scope=row>33</th><td>1</td><td>0</td><td>0</td><td>0</td><td>1</td><td>0</td><td>1</td><td>1</td><td> 22.5</td><td>  0</td><td>50.0</td><td>16.5</td></tr>\n",
       "\t<tr><th scope=row>34</th><td>0</td><td>1</td><td>0</td><td>0</td><td>1</td><td>0</td><td>0</td><td>1</td><td> 40.0</td><td>NaN</td><td> 1.0</td><td> 1.0</td></tr>\n",
       "\t<tr><th scope=row>36</th><td>0</td><td>1</td><td>0</td><td>0</td><td>1</td><td>0</td><td>1</td><td>1</td><td> 50.0</td><td>NaN</td><td>30.0</td><td>50.0</td></tr>\n",
       "\t<tr><th scope=row>37</th><td>0</td><td>0</td><td>0</td><td>0</td><td>1</td><td>0</td><td>0</td><td>1</td><td>  NaN</td><td>NaN</td><td>30.0</td><td> NaN</td></tr>\n",
       "\t<tr><th scope=row>38</th><td>1</td><td>1</td><td>0</td><td>1</td><td>1</td><td>0</td><td>0</td><td>0</td><td> 40.0</td><td>100</td><td> 0.0</td><td> 0.0</td></tr>\n",
       "\t<tr><th scope=row>40</th><td>0</td><td>1</td><td>0</td><td>0</td><td>0</td><td>0</td><td>1</td><td>1</td><td>100.0</td><td>NaN</td><td> NaN</td><td>75.0</td></tr>\n",
       "\t<tr><th scope=row>42</th><td>0</td><td>1</td><td>0</td><td>0</td><td>0</td><td>0</td><td>0</td><td>1</td><td>100.0</td><td>NaN</td><td> NaN</td><td>25.0</td></tr>\n",
       "\t<tr><th scope=row>43</th><td>1</td><td>0</td><td>0</td><td>0</td><td>1</td><td>0</td><td>0</td><td>0</td><td> 20.0</td><td>NaN</td><td>25.0</td><td> NaN</td></tr>\n",
       "\t<tr><th scope=row>45</th><td>1</td><td>1</td><td>0</td><td>0</td><td>0</td><td>0</td><td>1</td><td>1</td><td> 10.0</td><td>NaN</td><td> 0.0</td><td>20.0</td></tr>\n",
       "\t<tr><th scope=row>5</th><td>0</td><td>1</td><td>0</td><td>1</td><td>0</td><td>1</td><td>0</td><td>0</td><td>100.0</td><td>100</td><td>20.0</td><td> 0.0</td></tr>\n",
       "\t<tr><th scope=row>50</th><td>1</td><td>0</td><td>0</td><td>0</td><td>1</td><td>0</td><td>1</td><td>0</td><td>  NaN</td><td>NaN</td><td> NaN</td><td> NaN</td></tr>\n",
       "\t<tr><th scope=row>51</th><td>1</td><td>1</td><td>0</td><td>0</td><td>1</td><td>0</td><td>0</td><td>1</td><td> 40.0</td><td>NaN</td><td>20.0</td><td>40.0</td></tr>\n",
       "\t<tr><th scope=row>8</th><td>0</td><td>0</td><td>0</td><td>0</td><td>1</td><td>0</td><td>1</td><td>1</td><td>  NaN</td><td>  0</td><td>33.0</td><td>50.0</td></tr>\n",
       "\t<tr><th scope=row>9</th><td>1</td><td>1</td><td>0</td><td>1</td><td>0</td><td>1</td><td>1</td><td>1</td><td>100.0</td><td>100</td><td>16.5</td><td>62.5</td></tr>\n",
       "</tbody>\n",
       "</table>\n"
      ],
      "text/latex": [
       "A data.frame: 25 × 12\n",
       "\\begin{tabular}{r|llllllllllll}\n",
       "  & staffJDCOVID & staffJDRedeploy & staffGOCOVID & staffGORedeploy & staffConstCOVID & staffConstRedeploy & staffCNSCOVID & staffCNSRedeploy & staffJDred & staffGOred & staffCONred & staffCNSred\\\\\n",
       "  & <dbl> & <dbl> & <dbl> & <dbl> & <dbl> & <dbl> & <dbl> & <dbl> & <dbl> & <dbl> & <dbl> & <dbl>\\\\\n",
       "\\hline\n",
       "\t13 & 0 & 0 & 0 & 0 & 1 & 0 & 0 & 0 &   NaN & NaN & 25.0 &  NaN\\\\\n",
       "\t17 & 1 & 0 & 0 & 0 & 1 & 0 & 0 & 0 &  15.0 & NaN & 50.0 &  NaN\\\\\n",
       "\t19 & 1 & 1 & 0 & 1 & 0 & 0 & 0 & 0 &  25.0 & 100 & 17.0 &  NaN\\\\\n",
       "\t20 & 0 & 1 & 0 & 1 & 0 & 0 & 0 & 0 & 100.0 & 100 &  0.0 &  0.0\\\\\n",
       "\t21 & 1 & 0 & 0 & 0 & 1 & 0 & 1 & 1 &  30.0 & NaN & 30.0 & 80.0\\\\\n",
       "\t22 & 1 & 0 & 1 & 0 & 1 & 0 & 0 & 1 & 100.0 & 100 & 70.0 & 30.0\\\\\n",
       "\t24 & 1 & 0 & 0 & 0 & 1 & 0 & 0 & 0 &  15.0 &   0 & 50.0 &  0.0\\\\\n",
       "\t26 & 1 & 0 & 1 & 0 & 1 & 0 & 1 & 0 &  30.0 & 100 & 20.0 & 20.0\\\\\n",
       "\t3 & 0 & 1 & 0 & 0 & 1 & 0 & 0 & 1 &  60.0 &   0 & 20.0 & 30.0\\\\\n",
       "\t30 & 1 & 1 & 0 & 1 & 1 & 0 & 0 & 1 &  40.0 &  30 & 40.0 & 20.0\\\\\n",
       "\t31 & 0 & 1 & 0 & 0 & 0 & 0 & 0 & 0 &  25.0 &   0 &  NaN &  0.0\\\\\n",
       "\t33 & 1 & 0 & 0 & 0 & 1 & 0 & 1 & 1 &  22.5 &   0 & 50.0 & 16.5\\\\\n",
       "\t34 & 0 & 1 & 0 & 0 & 1 & 0 & 0 & 1 &  40.0 & NaN &  1.0 &  1.0\\\\\n",
       "\t36 & 0 & 1 & 0 & 0 & 1 & 0 & 1 & 1 &  50.0 & NaN & 30.0 & 50.0\\\\\n",
       "\t37 & 0 & 0 & 0 & 0 & 1 & 0 & 0 & 1 &   NaN & NaN & 30.0 &  NaN\\\\\n",
       "\t38 & 1 & 1 & 0 & 1 & 1 & 0 & 0 & 0 &  40.0 & 100 &  0.0 &  0.0\\\\\n",
       "\t40 & 0 & 1 & 0 & 0 & 0 & 0 & 1 & 1 & 100.0 & NaN &  NaN & 75.0\\\\\n",
       "\t42 & 0 & 1 & 0 & 0 & 0 & 0 & 0 & 1 & 100.0 & NaN &  NaN & 25.0\\\\\n",
       "\t43 & 1 & 0 & 0 & 0 & 1 & 0 & 0 & 0 &  20.0 & NaN & 25.0 &  NaN\\\\\n",
       "\t45 & 1 & 1 & 0 & 0 & 0 & 0 & 1 & 1 &  10.0 & NaN &  0.0 & 20.0\\\\\n",
       "\t5 & 0 & 1 & 0 & 1 & 0 & 1 & 0 & 0 & 100.0 & 100 & 20.0 &  0.0\\\\\n",
       "\t50 & 1 & 0 & 0 & 0 & 1 & 0 & 1 & 0 &   NaN & NaN &  NaN &  NaN\\\\\n",
       "\t51 & 1 & 1 & 0 & 0 & 1 & 0 & 0 & 1 &  40.0 & NaN & 20.0 & 40.0\\\\\n",
       "\t8 & 0 & 0 & 0 & 0 & 1 & 0 & 1 & 1 &   NaN &   0 & 33.0 & 50.0\\\\\n",
       "\t9 & 1 & 1 & 0 & 1 & 0 & 1 & 1 & 1 & 100.0 & 100 & 16.5 & 62.5\\\\\n",
       "\\end{tabular}\n"
      ],
      "text/markdown": [
       "\n",
       "A data.frame: 25 × 12\n",
       "\n",
       "| <!--/--> | staffJDCOVID &lt;dbl&gt; | staffJDRedeploy &lt;dbl&gt; | staffGOCOVID &lt;dbl&gt; | staffGORedeploy &lt;dbl&gt; | staffConstCOVID &lt;dbl&gt; | staffConstRedeploy &lt;dbl&gt; | staffCNSCOVID &lt;dbl&gt; | staffCNSRedeploy &lt;dbl&gt; | staffJDred &lt;dbl&gt; | staffGOred &lt;dbl&gt; | staffCONred &lt;dbl&gt; | staffCNSred &lt;dbl&gt; |\n",
       "|---|---|---|---|---|---|---|---|---|---|---|---|---|\n",
       "| 13 | 0 | 0 | 0 | 0 | 1 | 0 | 0 | 0 |   NaN | NaN | 25.0 |  NaN |\n",
       "| 17 | 1 | 0 | 0 | 0 | 1 | 0 | 0 | 0 |  15.0 | NaN | 50.0 |  NaN |\n",
       "| 19 | 1 | 1 | 0 | 1 | 0 | 0 | 0 | 0 |  25.0 | 100 | 17.0 |  NaN |\n",
       "| 20 | 0 | 1 | 0 | 1 | 0 | 0 | 0 | 0 | 100.0 | 100 |  0.0 |  0.0 |\n",
       "| 21 | 1 | 0 | 0 | 0 | 1 | 0 | 1 | 1 |  30.0 | NaN | 30.0 | 80.0 |\n",
       "| 22 | 1 | 0 | 1 | 0 | 1 | 0 | 0 | 1 | 100.0 | 100 | 70.0 | 30.0 |\n",
       "| 24 | 1 | 0 | 0 | 0 | 1 | 0 | 0 | 0 |  15.0 |   0 | 50.0 |  0.0 |\n",
       "| 26 | 1 | 0 | 1 | 0 | 1 | 0 | 1 | 0 |  30.0 | 100 | 20.0 | 20.0 |\n",
       "| 3 | 0 | 1 | 0 | 0 | 1 | 0 | 0 | 1 |  60.0 |   0 | 20.0 | 30.0 |\n",
       "| 30 | 1 | 1 | 0 | 1 | 1 | 0 | 0 | 1 |  40.0 |  30 | 40.0 | 20.0 |\n",
       "| 31 | 0 | 1 | 0 | 0 | 0 | 0 | 0 | 0 |  25.0 |   0 |  NaN |  0.0 |\n",
       "| 33 | 1 | 0 | 0 | 0 | 1 | 0 | 1 | 1 |  22.5 |   0 | 50.0 | 16.5 |\n",
       "| 34 | 0 | 1 | 0 | 0 | 1 | 0 | 0 | 1 |  40.0 | NaN |  1.0 |  1.0 |\n",
       "| 36 | 0 | 1 | 0 | 0 | 1 | 0 | 1 | 1 |  50.0 | NaN | 30.0 | 50.0 |\n",
       "| 37 | 0 | 0 | 0 | 0 | 1 | 0 | 0 | 1 |   NaN | NaN | 30.0 |  NaN |\n",
       "| 38 | 1 | 1 | 0 | 1 | 1 | 0 | 0 | 0 |  40.0 | 100 |  0.0 |  0.0 |\n",
       "| 40 | 0 | 1 | 0 | 0 | 0 | 0 | 1 | 1 | 100.0 | NaN |  NaN | 75.0 |\n",
       "| 42 | 0 | 1 | 0 | 0 | 0 | 0 | 0 | 1 | 100.0 | NaN |  NaN | 25.0 |\n",
       "| 43 | 1 | 0 | 0 | 0 | 1 | 0 | 0 | 0 |  20.0 | NaN | 25.0 |  NaN |\n",
       "| 45 | 1 | 1 | 0 | 0 | 0 | 0 | 1 | 1 |  10.0 | NaN |  0.0 | 20.0 |\n",
       "| 5 | 0 | 1 | 0 | 1 | 0 | 1 | 0 | 0 | 100.0 | 100 | 20.0 |  0.0 |\n",
       "| 50 | 1 | 0 | 0 | 0 | 1 | 0 | 1 | 0 |   NaN | NaN |  NaN |  NaN |\n",
       "| 51 | 1 | 1 | 0 | 0 | 1 | 0 | 0 | 1 |  40.0 | NaN | 20.0 | 40.0 |\n",
       "| 8 | 0 | 0 | 0 | 0 | 1 | 0 | 1 | 1 |   NaN |   0 | 33.0 | 50.0 |\n",
       "| 9 | 1 | 1 | 0 | 1 | 0 | 1 | 1 | 1 | 100.0 | 100 | 16.5 | 62.5 |\n",
       "\n"
      ],
      "text/plain": [
       "   staffJDCOVID staffJDRedeploy staffGOCOVID staffGORedeploy staffConstCOVID\n",
       "13 0            0               0            0               1              \n",
       "17 1            0               0            0               1              \n",
       "19 1            1               0            1               0              \n",
       "20 0            1               0            1               0              \n",
       "21 1            0               0            0               1              \n",
       "22 1            0               1            0               1              \n",
       "24 1            0               0            0               1              \n",
       "26 1            0               1            0               1              \n",
       "3  0            1               0            0               1              \n",
       "30 1            1               0            1               1              \n",
       "31 0            1               0            0               0              \n",
       "33 1            0               0            0               1              \n",
       "34 0            1               0            0               1              \n",
       "36 0            1               0            0               1              \n",
       "37 0            0               0            0               1              \n",
       "38 1            1               0            1               1              \n",
       "40 0            1               0            0               0              \n",
       "42 0            1               0            0               0              \n",
       "43 1            0               0            0               1              \n",
       "45 1            1               0            0               0              \n",
       "5  0            1               0            1               0              \n",
       "50 1            0               0            0               1              \n",
       "51 1            1               0            0               1              \n",
       "8  0            0               0            0               1              \n",
       "9  1            1               0            1               0              \n",
       "   staffConstRedeploy staffCNSCOVID staffCNSRedeploy staffJDred staffGOred\n",
       "13 0                  0             0                  NaN      NaN       \n",
       "17 0                  0             0                 15.0      NaN       \n",
       "19 0                  0             0                 25.0      100       \n",
       "20 0                  0             0                100.0      100       \n",
       "21 0                  1             1                 30.0      NaN       \n",
       "22 0                  0             1                100.0      100       \n",
       "24 0                  0             0                 15.0        0       \n",
       "26 0                  1             0                 30.0      100       \n",
       "3  0                  0             1                 60.0        0       \n",
       "30 0                  0             1                 40.0       30       \n",
       "31 0                  0             0                 25.0        0       \n",
       "33 0                  1             1                 22.5        0       \n",
       "34 0                  0             1                 40.0      NaN       \n",
       "36 0                  1             1                 50.0      NaN       \n",
       "37 0                  0             1                  NaN      NaN       \n",
       "38 0                  0             0                 40.0      100       \n",
       "40 0                  1             1                100.0      NaN       \n",
       "42 0                  0             1                100.0      NaN       \n",
       "43 0                  0             0                 20.0      NaN       \n",
       "45 0                  1             1                 10.0      NaN       \n",
       "5  1                  0             0                100.0      100       \n",
       "50 0                  1             0                  NaN      NaN       \n",
       "51 0                  0             1                 40.0      NaN       \n",
       "8  0                  1             1                  NaN        0       \n",
       "9  1                  1             1                100.0      100       \n",
       "   staffCONred staffCNSred\n",
       "13 25.0         NaN       \n",
       "17 50.0         NaN       \n",
       "19 17.0         NaN       \n",
       "20  0.0         0.0       \n",
       "21 30.0        80.0       \n",
       "22 70.0        30.0       \n",
       "24 50.0         0.0       \n",
       "26 20.0        20.0       \n",
       "3  20.0        30.0       \n",
       "30 40.0        20.0       \n",
       "31  NaN         0.0       \n",
       "33 50.0        16.5       \n",
       "34  1.0         1.0       \n",
       "36 30.0        50.0       \n",
       "37 30.0         NaN       \n",
       "38  0.0         0.0       \n",
       "40  NaN        75.0       \n",
       "42  NaN        25.0       \n",
       "43 25.0         NaN       \n",
       "45  0.0        20.0       \n",
       "5  20.0         0.0       \n",
       "50  NaN         NaN       \n",
       "51 20.0        40.0       \n",
       "8  33.0        50.0       \n",
       "9  16.5        62.5       "
      ]
     },
     "metadata": {},
     "output_type": "display_data"
    }
   ],
   "source": [
    "## Summary statistics. Take average within centre\n",
    "\n",
    "fn.sumstat.bin <- function(ind){\n",
    "    min(sum(ind),1, na.rm=TRUE) \n",
    "}\n",
    "       \n",
    "## do opposite - sensititivty analysis\n",
    "##fn.sumstat.bin <- function(ind){\n",
    "##    floor(mean(ind, na.rm=TRUE)) \n",
    "##}\n",
    "       \n",
    "mydta5a1 <- data.frame(sapply(6:13, function(idx) tapply(mydta4a[,idx], mydta4a$newname, fn.sumstat.bin)))\n",
    "\n",
    "mydta5a2 <- data.frame(sapply(14:17, function(idx) tapply(mydta4a[,idx], mydta4a$newname, mean, na.rm=TRUE)))\n",
    "\n",
    "mydta5a <- cbind(mydta5a1, mydta5a2)\n",
    "\n",
    "colnames(mydta5a) <- colnames(mydta4a[,6:17])\n",
    "\n",
    "## output CSV file with data                              \n",
    "write.csv(mydta5a, file=\"output/staffred-summarybycentre.csv\")\n",
    "\n",
    "##Look at individual results                              \n",
    "mydta5a "
   ]
  },
  {
   "cell_type": "code",
   "execution_count": 8,
   "metadata": {},
   "outputs": [
    {
     "name": "stdout",
     "output_type": "stream",
     "text": [
      "[1] \"== Junior doctors ==\"\n",
      "[1] \"Number yes Covid: 14/25 (56%)\"\n",
      "[1] \"Number yes redeploy: 14/25 (56%)\"\n",
      "[1] \"cross tab\"\n",
      "     REDEPLOY\n",
      "COVID  0  1 Sum\n",
      "  0    3  8  11\n",
      "  1    8  6  14\n",
      "  Sum 11 14  25\n",
      "[1] \"individual responses: percentage reduction\"\n",
      " [1]  10.0  15.0  15.0  20.0  22.5  25.0  25.0  30.0  30.0  40.0  40.0  40.0\n",
      "[13]  40.0  50.0  60.0 100.0 100.0 100.0 100.0 100.0 100.0   NaN\n",
      "[1] \"summary: percentage reduction\"\n"
     ]
    },
    {
     "data": {
      "text/plain": [
       "   Min. 1st Qu.  Median    Mean 3rd Qu.    Max.    NA's \n",
       "   10.0    25.0    40.0    50.6   100.0   100.0       1 "
      ]
     },
     "metadata": {},
     "output_type": "display_data"
    },
    {
     "name": "stdout",
     "output_type": "stream",
     "text": [
      "[1] \"== GO Sub-specialty Trainee == \"\n",
      "[1] \"Number yes Covid: 2/25 (8%)\"\n",
      "[1] \"Number yes redeploy: 6/25 (24%)\"\n",
      "[1] \"cross tab\"\n",
      "     REDEPLOY\n",
      "COVID  0  1 Sum\n",
      "  0   17  6  23\n",
      "  1    2  0   2\n",
      "  Sum 19  6  25\n",
      "[1] \"individual responses: percentage reduction\"\n",
      "[1]  30 100 100 100 100 100 100 100\n",
      "[1] \"summary: percentage reduction\"\n"
     ]
    },
    {
     "data": {
      "text/plain": [
       "   Min. 1st Qu.  Median    Mean 3rd Qu.    Max. \n",
       "  30.00  100.00  100.00   91.25  100.00  100.00 "
      ]
     },
     "metadata": {},
     "output_type": "display_data"
    },
    {
     "name": "stdout",
     "output_type": "stream",
     "text": [
      "[1] \"== Consultant ==\"\n",
      "[1] \"Number yes Covid: 17/25 (68%)\"\n",
      "[1] \"Number yes redeploy: 2/25 (8%)\"\n",
      "[1] \"cross tab\"\n",
      "     REDEPLOY\n",
      "COVID  0  1 Sum\n",
      "  0    6  2   8\n",
      "  1   17  0  17\n",
      "  Sum 23  2  25\n",
      "[1] \"individual responses: percentage reduction\"\n",
      " [1]  0.0  1.0 16.5 20.0 20.0 20.0 20.0 25.0 25.0 30.0 30.0 30.0 33.0 40.0 50.0\n",
      "[16] 50.0 50.0 70.0  NaN\n",
      "[1] \"summary: percentage reduction\"\n"
     ]
    },
    {
     "data": {
      "text/plain": [
       "   Min. 1st Qu.  Median    Mean 3rd Qu.    Max.    NA's \n",
       "   0.00   20.00   27.50   29.47   38.25   70.00       1 "
      ]
     },
     "metadata": {},
     "output_type": "display_data"
    },
    {
     "name": "stdout",
     "output_type": "stream",
     "text": [
      "[1] \"== CNS ==\"\n",
      "[1] \"Number yes Covid: 9/25 (36%)\"\n",
      "[1] \"Number yes redeploy: 14/25 (56%)\"\n",
      "[1] \"cross tab\"\n",
      "     REDEPLOY\n",
      "COVID  0  1 Sum\n",
      "  0    9  7  16\n",
      "  1    2  7   9\n",
      "  Sum 11 14  25\n",
      "[1] \"individual responses: percentage reduction\"\n",
      " [1]  1.0 16.5 20.0 20.0 20.0 25.0 30.0 30.0 40.0 50.0 50.0 62.5 75.0 80.0  NaN\n",
      "[16]  NaN\n",
      "[1] \"summary: percentage reduction\"\n"
     ]
    },
    {
     "data": {
      "text/plain": [
       "   Min. 1st Qu.  Median    Mean 3rd Qu.    Max.    NA's \n",
       "   1.00   20.00   30.00   37.14   50.00   80.00       2 "
      ]
     },
     "metadata": {},
     "output_type": "display_data"
    }
   ],
   "source": [
    "mysum.staffred <- list(summary(mydta5a$staffJDred),\n",
    "                       summary(mydta5a$staffGOred),\n",
    "                       summary(mydta5a$staffCONred),\n",
    "                       summary(mydta5a$staffCNSred))\n",
    "\n",
    "myna.staffred <- unlist(lapply(mysum.staffred, function(ind) ind[7]))\n",
    "\n",
    "##mylabname <- paste(c(\"Junior\", \"Gyn Onc\", \"Consultant\", \"CNS\"), \"\\n (NA=\", myna.staffred, \")\", sep=\"\")\n",
    "\n",
    "##boxplot(list(mydta5a$staffJDred, mydta5a$staffGOred, mydta5a$staffCONred, mydta5a$staffCNSred), names=mylabname, ylab=\"Percentage reduction (%)\")\n",
    "\n",
    "\n",
    "mylabname <- paste(c(\"Junior\", \"Gyn Onc\", \"Consultant\", \"CNS\"), \"\\n (NA=\", myna.staffred, \")\", sep=\"\")\n",
    "\n",
    "\n",
    "fn.format<-function(ind, ndigit=2)\n",
    "{\n",
    "    format(round(ind,ndigit), nsmall=ndigit)\n",
    "}\n",
    "\n",
    "fn.sumstat1 <- function(ind, ndig=0){\n",
    "        paste(sum(ind), \" (\", fn.format(round(sum(ind)/length(ind) * 100),ndig), \"%)\", sep=\"\") \n",
    "}\n",
    "\n",
    "                               \n",
    "fn.summaryyes <- function(inyes1, inyes2, inperc){\n",
    "    print(paste(\"Number yes Covid: \", sum(inyes1), \"/\", length(inyes1), \" (\", fn.format(sum(inyes1)/length(inyes1)*100,0), \"%)\", sep=\"\"))\n",
    "    print(paste(\"Number yes redeploy: \", sum(inyes2), \"/\", length(inyes2), \" (\", fn.format(sum(inyes2)/length(inyes2)*100,0), \"%)\", sep=\"\"))\n",
    "    print(\"cross tab\")\n",
    "    COVID<-inyes1; REDEPLOY <- inyes2\n",
    "    print(addmargins(table(COVID, REDEPLOY)))\n",
    "\n",
    "    print(\"individual responses: percentage reduction\")\n",
    "    print(sort(inperc[inyes1==1 | inyes2==1], na.last=TRUE))\n",
    "    print(\"summary: percentage reduction\")\n",
    "    summary(inperc[inyes1==1 | inyes2==1])\n",
    "    }\n",
    "\n",
    "print(\"== Junior doctors ==\")\n",
    "fn.summaryyes(mydta5a$staffJDCOVID,mydta5a$staffJDRedeploy, mydta5a$staffJDred)\n",
    "\n",
    "print(\"== GO Sub-specialty Trainee == \")\n",
    "fn.summaryyes(mydta5a$staffGOCOVID, mydta5a$staffGORedeploy, mydta5a$staffGOred)\n",
    "\n",
    "print(\"== Consultant ==\")\n",
    "fn.summaryyes(mydta5a$staffConstCOVID,mydta5a$staffConstRedeploy, mydta5a$staffCONred)\n",
    "\n",
    "print(\"== CNS ==\")\n",
    "fn.summaryyes(mydta5a$staffCNSCOVID,mydta5a$staffCNSRedeploy, mydta5a$staffCNSred)\n",
    "\n"
   ]
  },
  {
   "cell_type": "code",
   "execution_count": 9,
   "metadata": {},
   "outputs": [
    {
     "name": "stderr",
     "output_type": "stream",
     "text": [
      "Warning message:\n",
      "“Removed 26 rows containing non-finite values (stat_boxplot).”\n",
      "`stat_bindot()` using `bins = 30`. Pick better value with `binwidth`.\n",
      "\n",
      "Warning message:\n",
      "“Removed 26 rows containing non-finite values (stat_bindot).”\n"
     ]
    },
    {
     "data": {
      "image/png": "[encoded data removed]",
      "text/plain": [
       "plot without title"
      ]
     },
     "metadata": {
      "image/png": {
       "height": 420,
       "width": 420
      }
     },
     "output_type": "display_data"
    }
   ],
   "source": [
    "mygplotdta <- data.frame(reduction=c(mydta5a$staffJDred,mydta5a$staffGOred, mydta5a$staffCONred, mydta5a$staffCNSred), group=rep(c(\"Junior Doctors\", \"GO Sub-specialty\", \"Consultant\\\n",
    "\", \"CNS\"), each=nrow(mydta5a)))\n",
    "\n",
    "##mygplotdta[is.na(mygplotdta[,1]),1] <- 0\n",
    "\n",
    "p <- ggplot(mygplotdta, aes(x=group, y=reduction)) +\n",
    "    geom_boxplot()+\n",
    "  geom_dotplot(binaxis='y', stackdir='center', dotsize=.7)\n",
    "\n",
    "p\n",
    "\n",
    "## sub group                                                                                                                                                                         \n",
    "#mygplotdta1 <- data.frame(reduction=c(mydta5a1$staffJDred,mydta5a1$staffGOred, mydta5a1$staffCONred, mydta5a1$staffCNSred), group=rep(c(\"Junior Doctors (Unit)\", \"GO Sub-specialty (Unit)\", \"Consultant (Unit)\", \"CNS (Unit)\"), each=nrow(mydta5a1)))\n",
    "\n",
    "#mygplotdta0 <- data.frame(reduction=c(mydta5a0$staffJDred,mydta5a0$staffGOred, mydta5a0$staffCONred, mydta5a0$staffCNSred), group=rep(c(\"Junior Doctors (Centre)\", \"GO Sub-specialty (Centre)\", \"Consultant (Centre)\", \"CNS (Centre)\"), each=nrow(mydta5a0)))\n",
    "\n",
    "#mygplotdta01<-rbind(mygplotdta0, mygplotdta1)\n",
    "#mygplotdta01  <-  mygplotdta01[order(as.character(mygplotdta01$group)),]\n",
    "#mygplotdta01$group <- factor(as.character(mygplotdta01$group))"
   ]
  },
  {
   "cell_type": "code",
   "execution_count": 10,
   "metadata": {},
   "outputs": [
    {
     "name": "stdout",
     "output_type": "stream",
     "text": [
      "[1] \"== Junior doctors ==\"\n",
      "[1] \"= Unit =\"\n",
      "[1] \"Number yes Covid: 5/8 (62%)\"\n",
      "[1] \"Number yes redeploy: 4/8 (50%)\"\n",
      "[1] \"cross tab\"\n",
      "     REDEPLOY\n",
      "COVID 0 1 Sum\n",
      "  0   2 1   3\n",
      "  1   2 3   5\n",
      "  Sum 4 4   8\n",
      "[1] \"individual responses: percentage reduction\"\n",
      "[1]  10  25  30  40  40 NaN\n",
      "[1] \"summary: percentage reduction\"\n"
     ]
    },
    {
     "data": {
      "text/plain": [
       "   Min. 1st Qu.  Median    Mean 3rd Qu.    Max.    NA's \n",
       "     10      25      30      29      40      40       1 "
      ]
     },
     "metadata": {},
     "output_type": "display_data"
    },
    {
     "name": "stdout",
     "output_type": "stream",
     "text": [
      "[1] \"= Centre =\"\n",
      "[1] \"Number yes Covid: 9/17 (53%)\"\n",
      "[1] \"Number yes redeploy: 10/17 (59%)\"\n",
      "[1] \"cross tab\"\n",
      "     REDEPLOY\n",
      "COVID  0  1 Sum\n",
      "  0    1  7   8\n",
      "  1    6  3   9\n",
      "  Sum  7 10  17\n",
      "[1] \"individual responses: percentage reduction\"\n",
      " [1]  15.0  15.0  20.0  22.5  25.0  30.0  40.0  40.0  50.0  60.0 100.0 100.0\n",
      "[13] 100.0 100.0 100.0 100.0\n",
      "[1] \"summary: percentage reduction\"\n"
     ]
    },
    {
     "data": {
      "text/plain": [
       "   Min. 1st Qu.  Median    Mean 3rd Qu.    Max. \n",
       "  15.00   24.38   45.00   57.34  100.00  100.00 "
      ]
     },
     "metadata": {},
     "output_type": "display_data"
    },
    {
     "name": "stdout",
     "output_type": "stream",
     "text": [
      "[1] \"== GO Sub-specialty Trainee == \"\n",
      "[1] \"= Unit =\"\n",
      "[1] \"Number yes Covid: 0/8 (0%)\"\n",
      "[1] \"Number yes redeploy: 1/8 (12%)\"\n",
      "[1] \"cross tab\"\n",
      "     REDEPLOY\n",
      "COVID 0 1 Sum\n",
      "  0   7 1   8\n",
      "  Sum 7 1   8\n",
      "[1] \"individual responses: percentage reduction\"\n",
      "[1] 30\n",
      "[1] \"summary: percentage reduction\"\n"
     ]
    },
    {
     "data": {
      "text/plain": [
       "   Min. 1st Qu.  Median    Mean 3rd Qu.    Max. \n",
       "     30      30      30      30      30      30 "
      ]
     },
     "metadata": {},
     "output_type": "display_data"
    },
    {
     "name": "stdout",
     "output_type": "stream",
     "text": [
      "[1] \"= Centre =\"\n",
      "[1] \"Number yes Covid: 2/17 (12%)\"\n",
      "[1] \"Number yes redeploy: 5/17 (29%)\"\n",
      "[1] \"cross tab\"\n",
      "     REDEPLOY\n",
      "COVID  0  1 Sum\n",
      "  0   10  5  15\n",
      "  1    2  0   2\n",
      "  Sum 12  5  17\n",
      "[1] \"individual responses: percentage reduction\"\n",
      "[1] 100 100 100 100 100 100 100\n",
      "[1] \"summary: percentage reduction\"\n"
     ]
    },
    {
     "data": {
      "text/plain": [
       "   Min. 1st Qu.  Median    Mean 3rd Qu.    Max. \n",
       "    100     100     100     100     100     100 "
      ]
     },
     "metadata": {},
     "output_type": "display_data"
    },
    {
     "name": "stdout",
     "output_type": "stream",
     "text": [
      "[1] \"== Consultant ==\"\n",
      "[1] \"= Unit =\"\n",
      "[1] \"Number yes Covid: 0/8 (0%)\"\n",
      "[1] \"Number yes redeploy: 1/8 (12%)\"\n",
      "[1] \"cross tab\"\n",
      "     REDEPLOY\n",
      "COVID 0 1 Sum\n",
      "  0   7 1   8\n",
      "  Sum 7 1   8\n",
      "[1] \"individual responses: percentage reduction\"\n",
      "[1] 30\n",
      "[1] \"summary: percentage reduction\"\n"
     ]
    },
    {
     "data": {
      "text/plain": [
       "   Min. 1st Qu.  Median    Mean 3rd Qu.    Max. \n",
       "     30      30      30      30      30      30 "
      ]
     },
     "metadata": {},
     "output_type": "display_data"
    },
    {
     "name": "stdout",
     "output_type": "stream",
     "text": [
      "[1] \"= Centre =\"\n",
      "[1] \"Number yes Covid: 2/17 (12%)\"\n",
      "[1] \"Number yes redeploy: 5/17 (29%)\"\n",
      "[1] \"cross tab\"\n",
      "     REDEPLOY\n",
      "COVID  0  1 Sum\n",
      "  0   10  5  15\n",
      "  1    2  0   2\n",
      "  Sum 12  5  17\n",
      "[1] \"individual responses: percentage reduction\"\n",
      "[1] 100 100 100 100 100 100 100\n",
      "[1] \"summary: percentage reduction\"\n"
     ]
    },
    {
     "data": {
      "text/plain": [
       "   Min. 1st Qu.  Median    Mean 3rd Qu.    Max. \n",
       "    100     100     100     100     100     100 "
      ]
     },
     "metadata": {},
     "output_type": "display_data"
    },
    {
     "name": "stdout",
     "output_type": "stream",
     "text": [
      "[1] \"== CNS ==\"\n",
      "[1] \"= Unit =\"\n",
      "[1] \"Number yes Covid: 4/8 (50%)\"\n",
      "[1] \"Number yes redeploy: 6/8 (75%)\"\n",
      "[1] \"cross tab\"\n",
      "     REDEPLOY\n",
      "COVID 0 1 Sum\n",
      "  0   1 3   4\n",
      "  1   1 3   4\n",
      "  Sum 2 6   8\n",
      "[1] \"individual responses: percentage reduction\"\n",
      "[1]  20  20  40  50  80 NaN NaN\n",
      "[1] \"summary: percentage reduction\"\n"
     ]
    },
    {
     "data": {
      "text/plain": [
       "   Min. 1st Qu.  Median    Mean 3rd Qu.    Max.    NA's \n",
       "     20      20      40      42      50      80       2 "
      ]
     },
     "metadata": {},
     "output_type": "display_data"
    },
    {
     "name": "stdout",
     "output_type": "stream",
     "text": [
      "[1] \"= Centre =\"\n",
      "[1] \"Number yes Covid: 5/17 (29%)\"\n",
      "[1] \"Number yes redeploy: 8/17 (47%)\"\n",
      "[1] \"cross tab\"\n",
      "     REDEPLOY\n",
      "COVID  0  1 Sum\n",
      "  0    8  4  12\n",
      "  1    1  4   5\n",
      "  Sum  9  8  17\n",
      "[1] \"individual responses: percentage reduction\"\n",
      "[1]  1.0 16.5 20.0 25.0 30.0 30.0 50.0 62.5 75.0\n",
      "[1] \"summary: percentage reduction\"\n"
     ]
    },
    {
     "data": {
      "text/plain": [
       "   Min. 1st Qu.  Median    Mean 3rd Qu.    Max. \n",
       "   1.00   20.00   30.00   34.44   50.00   75.00 "
      ]
     },
     "metadata": {},
     "output_type": "display_data"
    }
   ],
   "source": [
    "########################                                                                                                                                                             \n",
    "## centres vs units                                                                                                                                                                          \n",
    "##########################                                                                                                                                                           \n",
    "myord <- order(mydta4a$newname[!duplicated(mydta4a$newname)])\n",
    "t.inc <- mydta4a$centre[!duplicated(mydta4a$newname)][myord]==\"Centre\"\n",
    "mydta5a0 <- mydta5a[t.inc,]\n",
    "mydta5a1 <- mydta5a[!t.inc,]\n",
    "print(\"== Junior doctors ==\")\n",
    "print(\"= Unit =\")\n",
    "fn.summaryyes(mydta5a1$staffJDCOVID,mydta5a1$staffJDRedeploy, mydta5a1$staffJDred)\n",
    "print(\"= Centre =\")\n",
    "fn.summaryyes(mydta5a0$staffJDCOVID,mydta5a0$staffJDRedeploy, mydta5a0$staffJDred)\n",
    "\n",
    "print(\"== GO Sub-specialty Trainee == \")\n",
    "print(\"= Unit =\")\n",
    "fn.summaryyes(mydta5a1$staffGOCOVID, mydta5a1$staffGORedeploy, mydta5a1$staffGOred)\n",
    "print(\"= Centre =\")\n",
    "fn.summaryyes(mydta5a0$staffGOCOVID, mydta5a0$staffGORedeploy, mydta5a0$staffGOred)\n",
    "\n",
    "print(\"== Consultant ==\")\n",
    "print(\"= Unit =\")\n",
    "fn.summaryyes(mydta5a1$staffGOCOVID,mydta5a1$staffGORedeploy, mydta5a1$staffGOred)\n",
    "print(\"= Centre =\")\n",
    "fn.summaryyes(mydta5a0$staffGOCOVID,mydta5a0$staffGORedeploy, mydta5a0$staffGOred)\n",
    "print(\"== CNS ==\")\n",
    "print(\"= Unit =\")\n",
    "fn.summaryyes(mydta5a1$staffCNSCOVID,mydta5a1$staffCNSRedeploy, mydta5a1$staffCNSred)\n",
    "print(\"= Centre =\")\n",
    "fn.summaryyes(mydta5a0$staffCNSCOVID,mydta5a0$staffCNSRedeploy, mydta5a0$staffCNSred)\n"
   ]
  },
  {
   "cell_type": "code",
   "execution_count": 11,
   "metadata": {},
   "outputs": [
    {
     "name": "stderr",
     "output_type": "stream",
     "text": [
      "Warning message:\n",
      "“Removed 26 rows containing non-finite values (stat_boxplot).”\n",
      "`stat_bindot()` using `bins = 30`. Pick better value with `binwidth`.\n",
      "\n",
      "Warning message:\n",
      "“Removed 26 rows containing non-finite values (stat_bindot).”\n"
     ]
    },
    {
     "data": {
      "image/png": "[encoded data removed]",
      "text/plain": [
       "plot without title"
      ]
     },
     "metadata": {
      "image/png": {
       "height": 420,
       "width": 420
      }
     },
     "output_type": "display_data"
    }
   ],
   "source": [
    "# sub group                                                                                                                                                                         \n",
    "mygplotdta1 <- data.frame(reduction=c(mydta5a1$staffJDred,mydta5a1$staffGOred, mydta5a1$staffCONred, mydta5a1$staffCNSred), group=rep(c(\"Junior Doctors (Unit)\", \"GO Sub-specialty (\\\n",
    "Unit)\", \"Consultant (Unit)\", \"CNS (Unit)\"), each=nrow(mydta5a1)))\n",
    "\n",
    "mygplotdta0 <- data.frame(reduction=c(mydta5a0$staffJDred,mydta5a0$staffGOred, mydta5a0$staffCONred, mydta5a0$staffCNSred), group=rep(c(\"Junior Doctors (Centre)\", \"GO Sub-specialty\\\n",
    " (Centre)\", \"Consultant (Centre)\", \"CNS (Centre)\"), each=nrow(mydta5a0)))\n",
    "\n",
    "\n",
    "mygplotdta01<-rbind(mygplotdta0, mygplotdta1)\n",
    "mygplotdta01  <-  mygplotdta01[order(as.character(mygplotdta01$group)),]\n",
    "mygplotdta01$group <- factor(as.character(mygplotdta01$group))\n",
    "\n",
    "p <- ggplot(mygplotdta01, aes(x=group, y=reduction)) +\n",
    "    geom_boxplot()+\n",
    "  geom_dotplot(binaxis='y', stackdir='center', dotsize=.7)\n",
    "\n",
    "p\n"
   ]
  },
  {
   "cell_type": "markdown",
   "metadata": {},
   "source": [
    "## MDT changes"
   ]
  },
  {
   "cell_type": "code",
   "execution_count": 12,
   "metadata": {},
   "outputs": [
    {
     "name": "stdout",
     "output_type": "stream",
     "text": [
      "[1] \"Number centres with change to MDT: 51 / 51\"\n"
     ]
    },
    {
     "data": {
      "text/html": [
       "<table>\n",
       "<caption>A matrix: 5 × 4 of type chr</caption>\n",
       "<thead>\n",
       "\t<tr><th scope=col>Type</th><th scope=col>All</th><th scope=col>Unit</th><th scope=col>Centre</th></tr>\n",
       "</thead>\n",
       "<tbody>\n",
       "\t<tr><td>Virtual MDT     </td><td>20/51 (39%)</td><td> 5/19 (26%)</td><td>15/32 (47%)</td></tr>\n",
       "\t<tr><td>Mixed virual F2F</td><td>33/51 (65%)</td><td>13/19 (68%)</td><td>20/32 (62%)</td></tr>\n",
       "\t<tr><td>Less freq       </td><td> 0/51 ( 0%)</td><td> 0/19 ( 0%)</td><td> 0/32 ( 0%)</td></tr>\n",
       "\t<tr><td>Suspend         </td><td> 0/51 ( 0%)</td><td> 0/19 ( 0%)</td><td> 0/32 ( 0%)</td></tr>\n",
       "\t<tr><td>Less Attd       </td><td>21/51 (41%)</td><td> 6/19 (32%)</td><td>15/32 (47%)</td></tr>\n",
       "</tbody>\n",
       "</table>\n"
      ],
      "text/latex": [
       "A matrix: 5 × 4 of type chr\n",
       "\\begin{tabular}{llll}\n",
       " Type & All & Unit & Centre\\\\\n",
       "\\hline\n",
       "\t Virtual MDT      & 20/51 (39\\%) &  5/19 (26\\%) & 15/32 (47\\%)\\\\\n",
       "\t Mixed virual F2F & 33/51 (65\\%) & 13/19 (68\\%) & 20/32 (62\\%)\\\\\n",
       "\t Less freq        &  0/51 ( 0\\%) &  0/19 ( 0\\%) &  0/32 ( 0\\%)\\\\\n",
       "\t Suspend          &  0/51 ( 0\\%) &  0/19 ( 0\\%) &  0/32 ( 0\\%)\\\\\n",
       "\t Less Attd        & 21/51 (41\\%) &  6/19 (32\\%) & 15/32 (47\\%)\\\\\n",
       "\\end{tabular}\n"
      ],
      "text/markdown": [
       "\n",
       "A matrix: 5 × 4 of type chr\n",
       "\n",
       "| Type | All | Unit | Centre |\n",
       "|---|---|---|---|\n",
       "| Virtual MDT      | 20/51 (39%) |  5/19 (26%) | 15/32 (47%) |\n",
       "| Mixed virual F2F | 33/51 (65%) | 13/19 (68%) | 20/32 (62%) |\n",
       "| Less freq        |  0/51 ( 0%) |  0/19 ( 0%) |  0/32 ( 0%) |\n",
       "| Suspend          |  0/51 ( 0%) |  0/19 ( 0%) |  0/32 ( 0%) |\n",
       "| Less Attd        | 21/51 (41%) |  6/19 (32%) | 15/32 (47%) |\n",
       "\n"
      ],
      "text/plain": [
       "     Type             All         Unit        Centre     \n",
       "[1,] Virtual MDT      20/51 (39%)  5/19 (26%) 15/32 (47%)\n",
       "[2,] Mixed virual F2F 33/51 (65%) 13/19 (68%) 20/32 (62%)\n",
       "[3,] Less freq         0/51 ( 0%)  0/19 ( 0%)  0/32 ( 0%)\n",
       "[4,] Suspend           0/51 ( 0%)  0/19 ( 0%)  0/32 ( 0%)\n",
       "[5,] Less Attd        21/51 (41%)  6/19 (32%) 15/32 (47%)"
      ]
     },
     "metadata": {},
     "output_type": "display_data"
    }
   ],
   "source": [
    "mymdtchange <- tapply(as.character(mydta3$MDTchange), mydta3$newname, function(ind) mean(ind==\"Yes\"))\n",
    "\n",
    "print(paste(\"Number centres with change to MDT:\", sum(mymdtchange), \"/\", length(mymdtchange)))\n",
    "\n",
    "mycentre <- tapply(mydta3$centre, mydta3$newname, function(ind) ind[1])\n",
    "\n",
    "mymdtchangevirtual <- tapply(mydta3$MDTvirual, mydta3$newname, mean) >0.1\n",
    "\n",
    "mymdtchangevirtualF2F <- tapply(mydta3$MDTvirualF2F, mydta3$newname, mean) >0.1\n",
    "\n",
    "mymdtchangesuspend <- tapply(mydta3$MDTsuspend, mydta3$newname, mean) >0.1\n",
    "\n",
    "mymdtchangeMDTlessfreq <- tapply(mydta3$MDTlessfreq, mydta3$newname, mean) >0.1\n",
    "\n",
    "mymdtchangeMDTlessattd <- tapply(mydta3$MDTlessattd, mydta3$newname, mean) >0\n",
    "\n",
    "##sensitivity analysis -- opposite                   \n",
    "##mymdtchangevirtual <- tapply(mydta3$MDTvirual, mydta3$newname, mean) == 1\n",
    "\n",
    "##mymdtchangevirtualF2F <- tapply(mydta3$MDTvirualF2F, mydta3$newname, mean) == 1\n",
    "\n",
    "##mymdtchangesuspend <- tapply(mydta3$MDTsuspend, mydta3$newname, mean) == 1\n",
    "\n",
    "##mymdtchangeMDTlessfreq <- tapply(mydta3$MDTlessfreq, mydta3$newname, mean) == 1\n",
    "\n",
    "##mymdtchangeMDTlessattd <- tapply(mydta3$MDTlessattd, mydta3$newname, mean) == 1                  \n",
    "                   \n",
    "mysumdtaMDT <- data.frame(centre=mycentre, virtual=mymdtchangevirtual, virtualF2F=mymdtchangevirtualF2F, suspend=mymdtchangesuspend, lessfreq=mymdtchangeMDTlessfreq, lessattd=mymdtchangeMDTlessattd)\n",
    "\n",
    "fn.sumstatMDT1 <- function(mysumdtaMDT){\n",
    "\n",
    "    paste(fn.format(colSums(mysumdtaMDT)[2:6],0), \"/\", nrow(mysumdtaMDT), \" (\",\n",
    "          fn.format(colMeans(mysumdtaMDT)[2:6]*100,0), \"%)\", sep=\"\")\n",
    "\n",
    "}\n",
    "                  \n",
    "mysumMDT.all <- cbind(c(\"Virtual MDT\", \"Mixed virual F2F\", \"Less freq\", \"Suspend\", \"Less Attd\"), fn.sumstatMDT1(mysumdtaMDT))\n",
    "\n",
    "##unit                                                                                                                                                                               \n",
    "mysumdtaMDT.unit <- mysumdtaMDT[mysumdtaMDT$centre==2,]\n",
    "\n",
    "mysumMDT.unit <- cbind(c(\"Virtual MDT\", \"Mixed virual F2F\", \"Less freq\", \"Suspend\", \"Less Attd\"), fn.sumstatMDT1(mysumdtaMDT.unit))\n",
    "\n",
    "##centre                                                                                                                                                                             \n",
    "mysumdtaMDT.centre <- mysumdtaMDT[mysumdtaMDT$centre==1,]\n",
    "\n",
    "mysumMDT.centre <- cbind(c(\"Virtual MDT\", \"Mixed virual F2F\", \"Less freq\", \"Suspend\", \"Less Attd\"), fn.sumstatMDT1(mysumdtaMDT.centre))\n",
    "\n",
    "mysumMDT.sum <- cbind(mysumMDT.all, mysumMDT.unit[,2], mysumMDT.centre[,2])\n",
    "\n",
    "colnames(mysumMDT.sum) <- c(\"Type\", \"All\", \"Unit\", \"Centre\")\n",
    "\n",
    "mysumMDT.sum\n"
   ]
  },
  {
   "cell_type": "code",
   "execution_count": 13,
   "metadata": {},
   "outputs": [
    {
     "data": {
      "text/html": [
       "0.980392156862745"
      ],
      "text/latex": [
       "0.980392156862745"
      ],
      "text/markdown": [
       "0.980392156862745"
      ],
      "text/plain": [
       "[1] 0.9803922"
      ]
     },
     "metadata": {},
     "output_type": "display_data"
    },
    {
     "data": {
      "text/plain": [
       "$Centre\n",
       "   Min. 1st Qu.  Median    Mean 3rd Qu.    Max.    NA's \n",
       "   0.00    0.00   15.00   24.35   50.00   75.00       5 \n",
       "\n",
       "$Unit\n",
       "   Min. 1st Qu.  Median    Mean 3rd Qu.    Max.    NA's \n",
       "  0.000   0.000   0.000   9.438  17.000  50.000       3 \n"
      ]
     },
     "metadata": {},
     "output_type": "display_data"
    },
    {
     "name": "stderr",
     "output_type": "stream",
     "text": [
      "Warning message:\n",
      "“Removed 8 rows containing non-finite values (stat_boxplot).”\n",
      "`stat_bindot()` using `bins = 30`. Pick better value with `binwidth`.\n",
      "\n",
      "Warning message:\n",
      "“Removed 8 rows containing non-finite values (stat_bindot).”\n"
     ]
    },
    {
     "data": {
      "image/png": "[encoded data removed]",
      "text/plain": [
       "plot without title"
      ]
     },
     "metadata": {
      "image/png": {
       "height": 420,
       "width": 420
      }
     },
     "output_type": "display_data"
    }
   ],
   "source": [
    "#### reduced percentage attendees                                                                                                                                                             \n",
    "mysumdtaMDT$redperc <- tapply(mydta3$redperc, mydta3$newname, mean, na.rm=TRUE)\n",
    "mysumdtaMDT$centre2<-as.factor(c(\"Centre\", \"Unit\")[mysumdtaMDT$centre])\n",
    "mean(rowSums(mysumdtaMDT[,2:6])>0)\n",
    "\n",
    "p <- ggplot(mysumdtaMDT, aes(x=centre2, y=redperc)) +\n",
    "    geom_boxplot()+\n",
    "  geom_dotplot(binaxis='y', stackdir='center', dotsize=.7)\n",
    "\n",
    "tapply(mysumdtaMDT$redperc, mysumdtaMDT$centre2, summary)\n",
    "p"
   ]
  },
  {
   "cell_type": "code",
   "execution_count": 14,
   "metadata": {},
   "outputs": [
    {
     "name": "stderr",
     "output_type": "stream",
     "text": [
      "Warning message:\n",
      "“Removed 2 rows containing non-finite values (stat_boxplot).”\n",
      "`stat_bindot()` using `bins = 30`. Pick better value with `binwidth`.\n",
      "\n",
      "Warning message:\n",
      "“Removed 2 rows containing non-finite values (stat_bindot).”\n"
     ]
    },
    {
     "data": {
      "text/plain": [
       "   Min. 1st Qu.  Median    Mean 3rd Qu.    Max.    NA's \n",
       "   2.00   50.00   75.00   66.37   87.50   95.00       2 "
      ]
     },
     "metadata": {},
     "output_type": "display_data"
    },
    {
     "data": {
      "text/plain": [
       "$Centre\n",
       "   Min. 1st Qu.  Median    Mean 3rd Qu.    Max.    NA's \n",
       "  25.00   50.00   74.38   68.51   86.88   95.00       2 \n",
       "\n",
       "$Unit\n",
       "   Min. 1st Qu.  Median    Mean 3rd Qu.    Max. \n",
       "      2      50      75      63      85      95 \n"
      ]
     },
     "metadata": {},
     "output_type": "display_data"
    },
    {
     "data": {
      "image/png": "[encoded data removed]",
      "text/plain": [
       "plot without title"
      ]
     },
     "metadata": {
      "image/png": {
       "height": 420,
       "width": 420
      }
     },
     "output_type": "display_data"
    }
   ],
   "source": [
    "##What proportion of your out-patient clinic is remote consultation (telephone/ video)                                                                                               \n",
    "\n",
    "mysumdtaMDT$outpatientremote <- tapply(mydta3$outpatientremote, mydta3$newname, mean, na.rm=TRUE)\n",
    "\n",
    "p <- ggplot(mysumdtaMDT, aes(x=centre2, y=outpatientremote)) +\n",
    "    geom_boxplot()+\n",
    "  geom_dotplot(binaxis='y', stackdir='center', dotsize=.7)\n",
    "\n",
    "p\n",
    "\n",
    "summary(mysumdtaMDT$outpatientremote)\n",
    "\n",
    "tapply(mysumdtaMDT$outpatientremote, mysumdtaMDT$centre2, summary)"
   ]
  },
  {
   "cell_type": "markdown",
   "metadata": {},
   "source": [
    "### Re theatre time, how much reduction in theatre time has occurred? (If not reduced enter '0') "
   ]
  },
  {
   "cell_type": "code",
   "execution_count": 15,
   "metadata": {},
   "outputs": [
    {
     "name": "stderr",
     "output_type": "stream",
     "text": [
      "Warning message:\n",
      "“Removed 6 rows containing non-finite values (stat_boxplot).”\n",
      "`stat_bindot()` using `bins = 30`. Pick better value with `binwidth`.\n",
      "\n",
      "Warning message:\n",
      "“Removed 6 rows containing non-finite values (stat_bindot).”\n"
     ]
    },
    {
     "name": "stdout",
     "output_type": "stream",
     "text": [
      "[1] \"Summary overall\"\n"
     ]
    },
    {
     "data": {
      "text/plain": [
       "   Min. 1st Qu.  Median    Mean 3rd Qu.    Max.    NA's \n",
       "   0.00   20.00   40.00   43.62   70.00  100.00       6 "
      ]
     },
     "metadata": {},
     "output_type": "display_data"
    },
    {
     "name": "stdout",
     "output_type": "stream",
     "text": [
      "[1] \"By centre / unit\"\n"
     ]
    },
    {
     "data": {
      "text/plain": [
       "$Centre\n",
       "   Min. 1st Qu.  Median    Mean 3rd Qu.    Max.    NA's \n",
       "   0.00   12.50   30.00   34.64   55.00   92.00       5 \n",
       "\n",
       "$Unit\n",
       "   Min. 1st Qu.  Median    Mean 3rd Qu.    Max.    NA's \n",
       "   0.00   32.50   60.00   57.08   87.50  100.00       1 \n"
      ]
     },
     "metadata": {},
     "output_type": "display_data"
    },
    {
     "name": "stderr",
     "output_type": "stream",
     "text": [
      "Warning message:\n",
      "“Removed 6 rows containing non-finite values (stat_boxplot).”\n",
      "`stat_bindot()` using `bins = 30`. Pick better value with `binwidth`.\n",
      "\n",
      "Warning message:\n",
      "“Removed 6 rows containing non-finite values (stat_bindot).”\n"
     ]
    },
    {
     "data": {
      "text/html": [
       "<strong>png:</strong> 2"
      ],
      "text/latex": [
       "\\textbf{png:} 2"
      ],
      "text/markdown": [
       "**png:** 2"
      ],
      "text/plain": [
       "png \n",
       "  2 "
      ]
     },
     "metadata": {},
     "output_type": "display_data"
    },
    {
     "name": "stderr",
     "output_type": "stream",
     "text": [
      "Warning message in wilcox.test.default(split(mysumdtaMDT$theatrered, mysumdtaMDT$centre2)[[1]], :\n",
      "“cannot compute exact p-value with ties”\n"
     ]
    },
    {
     "data": {
      "text/plain": [
       "\n",
       "\tWilcoxon rank sum test with continuity correction\n",
       "\n",
       "data:  split(mysumdtaMDT$theatrered, mysumdtaMDT$centre2)[[1]] and split(mysumdtaMDT$theatrered, mysumdtaMDT$centre2)[[2]]\n",
       "W = 145, p-value = 0.02314\n",
       "alternative hypothesis: true location shift is not equal to 0\n"
      ]
     },
     "metadata": {},
     "output_type": "display_data"
    },
    {
     "data": {
      "image/png": "[encoded data removed]",
      "text/plain": [
       "plot without title"
      ]
     },
     "metadata": {
      "image/png": {
       "height": 420,
       "width": 420
      }
     },
     "output_type": "display_data"
    }
   ],
   "source": [
    "fn.sumpercavg <- function(colidx){\n",
    "\n",
    "    thisstat <- tapply(mydta3[,colidx], mydta3$newname, mean, na.rm=TRUE)\n",
    "\n",
    "    return(thisstat)\n",
    "\n",
    "    }\n",
    "\n",
    "fn.summarystat <- function(percentage, subgroup){\n",
    "    p <- ggplot(mysumdtaMDT, aes(x=subgroup, y=percentage)) +\n",
    "        geom_boxplot()+\n",
    "        geom_dotplot(binaxis='y', stackdir='center', dotsize=.7)\n",
    "\n",
    "\n",
    "    thissum <- summary(percentage)\n",
    "\n",
    "    thissum2 <- tapply(percentage, subgroup, summary)\n",
    "\n",
    "    return(list(p, thissum, thissum2))\n",
    "    \n",
    "}\n",
    "\n",
    "mysumdtaMDT$theatrered <- fn.sumpercavg(26)\n",
    "\n",
    "stat.theatrered <- fn.summarystat(mysumdtaMDT$theatrered, mysumdtaMDT$centre2)\n",
    "\n",
    "stat.theatrered[[1]]\n",
    "\n",
    "print(\"Summary overall\")\n",
    "\n",
    "stat.theatrered[[2]]\n",
    "\n",
    "print(\"By centre / unit\")\n",
    "\n",
    "stat.theatrered[[3]]\n",
    "\n",
    " p <- ggplot(mysumdtaMDT, aes(x=centre2, y=theatrered)) +\n",
    "        geom_boxplot()+\n",
    "        geom_dotplot(binaxis='y', stackdir='center', dotsize=.7) +\n",
    "        xlab(\"Site type\")+\n",
    "        ylab(\"Percentage reduced (%)\")\n",
    "\n",
    "tiff(\"output/theatretimereduced.tiff\", units=\"in\", width=5, height=5, res=200)\n",
    "p\n",
    "dev.off()\n",
    "\n",
    "wilcox.test(split(mysumdtaMDT$theatrered,mysumdtaMDT$centre2)[[1]],split(mysumdtaMDT$theatrered,mysumdtaMDT$centre2)[[2]])"
   ]
  },
  {
   "cell_type": "markdown",
   "metadata": {},
   "source": [
    "### What is the proportion of surgical cases postponed (if no cases postponed, enter ‘0’)"
   ]
  },
  {
   "cell_type": "code",
   "execution_count": 16,
   "metadata": {},
   "outputs": [
    {
     "name": "stderr",
     "output_type": "stream",
     "text": [
      "Warning message:\n",
      "“Removed 9 rows containing non-finite values (stat_boxplot).”\n",
      "`stat_bindot()` using `bins = 30`. Pick better value with `binwidth`.\n",
      "\n",
      "Warning message:\n",
      "“Removed 9 rows containing non-finite values (stat_bindot).”\n"
     ]
    },
    {
     "name": "stdout",
     "output_type": "stream",
     "text": [
      "[1] \"Overall\"\n"
     ]
    },
    {
     "data": {
      "text/plain": [
       "   Min. 1st Qu.  Median    Mean 3rd Qu.    Max.    NA's \n",
       "   0.00   16.25   30.00   37.54   56.75  100.00       9 "
      ]
     },
     "metadata": {},
     "output_type": "display_data"
    },
    {
     "name": "stdout",
     "output_type": "stream",
     "text": [
      "[1] \"Centre / Unit\"\n"
     ]
    },
    {
     "data": {
      "text/plain": [
       "$Centre\n",
       "   Min. 1st Qu.  Median    Mean 3rd Qu.    Max.    NA's \n",
       "   0.00   16.25   30.00   35.06   50.00  100.00       6 \n",
       "\n",
       "$Unit\n",
       "   Min. 1st Qu.  Median    Mean 3rd Qu.    Max.    NA's \n",
       "   0.00   16.25   35.00   41.56   72.50  100.00       3 \n"
      ]
     },
     "metadata": {},
     "output_type": "display_data"
    },
    {
     "data": {
      "image/png": "[encoded data removed]",
      "text/plain": [
       "plot without title"
      ]
     },
     "metadata": {
      "image/png": {
       "height": 420,
       "width": 420
      }
     },
     "output_type": "display_data"
    }
   ],
   "source": [
    "mysumdtaMDT$surgcasered <- fn.sumpercavg(27)\n",
    "\n",
    "stat.surgcasered <- fn.summarystat(mysumdtaMDT$surgcasered, mysumdtaMDT$centre2)\n",
    "\n",
    "stat.surgcasered[[1]]\n",
    "\n",
    "print(\"Overall\")\n",
    "\n",
    "stat.surgcasered[[2]]\n",
    "\n",
    "print(\"Centre / Unit\")\n",
    "\n",
    "stat.surgcasered[[3]]\n"
   ]
  },
  {
   "cell_type": "markdown",
   "metadata": {},
   "source": [
    "### Re Medical Oncology access/capacity, how much is this reduced by? (If not reduced enter '0', If unknown enter NK)"
   ]
  },
  {
   "cell_type": "code",
   "execution_count": 17,
   "metadata": {},
   "outputs": [
    {
     "name": "stderr",
     "output_type": "stream",
     "text": [
      "Warning message:\n",
      "“Removed 28 rows containing non-finite values (stat_boxplot).”\n",
      "`stat_bindot()` using `bins = 30`. Pick better value with `binwidth`.\n",
      "\n",
      "Warning message:\n",
      "“Removed 28 rows containing non-finite values (stat_bindot).”\n"
     ]
    },
    {
     "name": "stdout",
     "output_type": "stream",
     "text": [
      "[1] \"Overall\"\n"
     ]
    },
    {
     "data": {
      "text/plain": [
       "   Min. 1st Qu.  Median    Mean 3rd Qu.    Max.    NA's \n",
       "   0.00    0.00    0.00   10.14    0.00   90.00      28 "
      ]
     },
     "metadata": {},
     "output_type": "display_data"
    },
    {
     "name": "stdout",
     "output_type": "stream",
     "text": [
      "[1] \"Centre / Unit\"\n"
     ]
    },
    {
     "data": {
      "text/plain": [
       "$Centre\n",
       "   Min. 1st Qu.  Median    Mean 3rd Qu.    Max.    NA's \n",
       "   0.00    0.00    0.00   14.10   13.33   90.00      19 \n",
       "\n",
       "$Unit\n",
       "   Min. 1st Qu.  Median    Mean 3rd Qu.    Max.    NA's \n",
       "      0       0       0       5       0      50       9 \n"
      ]
     },
     "metadata": {},
     "output_type": "display_data"
    },
    {
     "data": {
      "image/png": "[encoded data removed]",
      "text/plain": [
       "plot without title"
      ]
     },
     "metadata": {
      "image/png": {
       "height": 420,
       "width": 420
      }
     },
     "output_type": "display_data"
    }
   ],
   "source": [
    "mysumdtaMDT$medoncred <- fn.sumpercavg(28)\n",
    "\n",
    "stat.medoncred <- fn.summarystat(mysumdtaMDT$medoncred, mysumdtaMDT$centre2)\n",
    "\n",
    "stat.medoncred[[1]]\n",
    "\n",
    "print(\"Overall\")\n",
    "\n",
    "stat.medoncred[[2]]\n",
    "\n",
    "print(\"Centre / Unit\")\n",
    "\n",
    "stat.medoncred[[3]]\n"
   ]
  },
  {
   "cell_type": "markdown",
   "metadata": {},
   "source": [
    "### Re Clinical Oncology access/capacity, how much is this reduced by? (If not reduced enter '0', If unknown enter NK)"
   ]
  },
  {
   "cell_type": "code",
   "execution_count": 18,
   "metadata": {},
   "outputs": [
    {
     "name": "stderr",
     "output_type": "stream",
     "text": [
      "Warning message:\n",
      "“Removed 27 rows containing non-finite values (stat_boxplot).”\n",
      "`stat_bindot()` using `bins = 30`. Pick better value with `binwidth`.\n",
      "\n",
      "Warning message:\n",
      "“Removed 27 rows containing non-finite values (stat_bindot).”\n"
     ]
    },
    {
     "name": "stdout",
     "output_type": "stream",
     "text": [
      "[1] \"Overall\"\n"
     ]
    },
    {
     "data": {
      "text/plain": [
       "   Min. 1st Qu.  Median    Mean 3rd Qu.    Max.    NA's \n",
       "  0.000   0.000   0.000   9.771   8.125 100.000      27 "
      ]
     },
     "metadata": {},
     "output_type": "display_data"
    },
    {
     "name": "stdout",
     "output_type": "stream",
     "text": [
      "[1] \"Centre / Unit\"\n"
     ]
    },
    {
     "data": {
      "text/plain": [
       "$Centre\n",
       "   Min. 1st Qu.  Median    Mean 3rd Qu.    Max.    NA's \n",
       "   0.00    0.00    0.00   14.88   10.00  100.00      19 \n",
       "\n",
       "$Unit\n",
       "   Min. 1st Qu.  Median    Mean 3rd Qu.    Max.    NA's \n",
       "  0.000   0.000   0.000   3.727   0.500  30.000       8 \n"
      ]
     },
     "metadata": {},
     "output_type": "display_data"
    },
    {
     "data": {
      "image/png": "[encoded data removed]",
      "text/plain": [
       "plot without title"
      ]
     },
     "metadata": {
      "image/png": {
       "height": 420,
       "width": 420
      }
     },
     "output_type": "display_data"
    }
   ],
   "source": [
    "mysumdtaMDT$clinoncred <- fn.sumpercavg(29)\n",
    "\n",
    "stat.clinoncred <- fn.summarystat(mysumdtaMDT$clinoncred, mysumdtaMDT$centre2)\n",
    "\n",
    "stat.clinoncred[[1]]\n",
    "\n",
    "print(\"Overall\")\n",
    "\n",
    "stat.clinoncred[[2]]\n",
    "\n",
    "print(\"Centre / Unit\")\n",
    "\n",
    "stat.clinoncred[[3]]"
   ]
  },
  {
   "cell_type": "markdown",
   "metadata": {},
   "source": [
    "### Re Radiology access/capacity, how much is this reduced by? (If not reduced enter '0', If unknown enter NK)"
   ]
  },
  {
   "cell_type": "code",
   "execution_count": 19,
   "metadata": {},
   "outputs": [
    {
     "name": "stderr",
     "output_type": "stream",
     "text": [
      "Warning message:\n",
      "“Removed 19 rows containing non-finite values (stat_boxplot).”\n",
      "`stat_bindot()` using `bins = 30`. Pick better value with `binwidth`.\n",
      "\n",
      "Warning message:\n",
      "“Removed 19 rows containing non-finite values (stat_bindot).”\n"
     ]
    },
    {
     "name": "stdout",
     "output_type": "stream",
     "text": [
      "[1] \"Overall\"\n"
     ]
    },
    {
     "data": {
      "text/plain": [
       "   Min. 1st Qu.  Median    Mean 3rd Qu.    Max.    NA's \n",
       "  0.000   0.000   0.000   9.375  10.000 100.000      19 "
      ]
     },
     "metadata": {},
     "output_type": "display_data"
    },
    {
     "name": "stdout",
     "output_type": "stream",
     "text": [
      "[1] \"Centre / Unit\"\n"
     ]
    },
    {
     "data": {
      "text/plain": [
       "$Centre\n",
       "   Min. 1st Qu.  Median    Mean 3rd Qu.    Max.    NA's \n",
       "   0.00    0.00    0.00   14.74   17.50  100.00      13 \n",
       "\n",
       "$Unit\n",
       "   Min. 1st Qu.  Median    Mean 3rd Qu.    Max.    NA's \n",
       "  0.000   0.000   0.000   1.538   0.000  20.000       6 \n"
      ]
     },
     "metadata": {},
     "output_type": "display_data"
    },
    {
     "data": {
      "image/png": "[encoded data removed]",
      "text/plain": [
       "plot without title"
      ]
     },
     "metadata": {
      "image/png": {
       "height": 420,
       "width": 420
      }
     },
     "output_type": "display_data"
    }
   ],
   "source": [
    "##                                                                                                                                                                                   \n",
    "mysumdtaMDT$radiored <- fn.sumpercavg(30)\n",
    "\n",
    "stat.radiored <- fn.summarystat(mysumdtaMDT$radiored, mysumdtaMDT$centre2)\n",
    "\n",
    "stat.radiored[[1]]\n",
    "\n",
    "print(\"Overall\")\n",
    "\n",
    "stat.radiored[[2]]\n",
    "\n",
    "print(\"Centre / Unit\")\n",
    "\n",
    "stat.radiored[[3]]\n"
   ]
  },
  {
   "cell_type": "markdown",
   "metadata": {},
   "source": [
    "### Re Pathology access/capacity, how much is this reduced by? (If not reduced enter '0', If unknown enter NK)\n"
   ]
  },
  {
   "cell_type": "code",
   "execution_count": 20,
   "metadata": {},
   "outputs": [
    {
     "name": "stderr",
     "output_type": "stream",
     "text": [
      "Warning message:\n",
      "“Removed 15 rows containing non-finite values (stat_boxplot).”\n",
      "`stat_bindot()` using `bins = 30`. Pick better value with `binwidth`.\n",
      "\n",
      "Warning message:\n",
      "“Removed 15 rows containing non-finite values (stat_bindot).”\n"
     ]
    },
    {
     "name": "stdout",
     "output_type": "stream",
     "text": [
      "[1] \"Overall\"\n"
     ]
    },
    {
     "data": {
      "text/plain": [
       "   Min. 1st Qu.  Median    Mean 3rd Qu.    Max.    NA's \n",
       "  0.000   0.000   0.000   4.306   0.000 100.000      15 "
      ]
     },
     "metadata": {},
     "output_type": "display_data"
    },
    {
     "name": "stdout",
     "output_type": "stream",
     "text": [
      "[1] \"Centre / Unit\"\n"
     ]
    },
    {
     "data": {
      "text/plain": [
       "$Centre\n",
       "   Min. 1st Qu.  Median    Mean 3rd Qu.    Max.    NA's \n",
       "  0.000   0.000   0.000   5.952   0.000 100.000      11 \n",
       "\n",
       "$Unit\n",
       "   Min. 1st Qu.  Median    Mean 3rd Qu.    Max.    NA's \n",
       "      0       0       0       2       0      30       4 \n"
      ]
     },
     "metadata": {},
     "output_type": "display_data"
    },
    {
     "data": {
      "image/png": "[encoded data removed]",
      "text/plain": [
       "plot without title"
      ]
     },
     "metadata": {
      "image/png": {
       "height": 420,
       "width": 420
      }
     },
     "output_type": "display_data"
    }
   ],
   "source": [
    "##                                                                                                                                                                                   \n",
    "mysumdtaMDT$pathred <- fn.sumpercavg(31)\n",
    "\n",
    "stat.pathred <- fn.summarystat(mysumdtaMDT$pathred, mysumdtaMDT$centre2)\n",
    "\n",
    "stat.pathred[[1]]\n",
    "\n",
    "print(\"Overall\")\n",
    "\n",
    "stat.pathred[[2]]\n",
    "\n",
    "print(\"Centre / Unit\")\n",
    "\n",
    "stat.pathred[[3]]\n"
   ]
  },
  {
   "cell_type": "markdown",
   "metadata": {},
   "source": [
    "### Re Palliative care access/capacity, how much is this reduced by? (If not reduced enter '0', If unknown enter NK)"
   ]
  },
  {
   "cell_type": "code",
   "execution_count": 21,
   "metadata": {},
   "outputs": [
    {
     "name": "stderr",
     "output_type": "stream",
     "text": [
      "Warning message:\n",
      "“Removed 28 rows containing non-finite values (stat_boxplot).”\n",
      "`stat_bindot()` using `bins = 30`. Pick better value with `binwidth`.\n",
      "\n",
      "Warning message:\n",
      "“Removed 28 rows containing non-finite values (stat_bindot).”\n"
     ]
    },
    {
     "name": "stdout",
     "output_type": "stream",
     "text": [
      "[1] \"Overall\"\n"
     ]
    },
    {
     "data": {
      "text/plain": [
       "   Min. 1st Qu.  Median    Mean 3rd Qu.    Max.    NA's \n",
       "  0.000   0.000   0.000   4.348   0.000 100.000      28 "
      ]
     },
     "metadata": {},
     "output_type": "display_data"
    },
    {
     "name": "stdout",
     "output_type": "stream",
     "text": [
      "[1] \"Centre / Unit\"\n"
     ]
    },
    {
     "data": {
      "text/plain": [
       "$Centre\n",
       "   Min. 1st Qu.  Median    Mean 3rd Qu.    Max.    NA's \n",
       "  0.000   0.000   0.000   6.667   0.000 100.000      17 \n",
       "\n",
       "$Unit\n",
       "   Min. 1st Qu.  Median    Mean 3rd Qu.    Max.    NA's \n",
       "      0       0       0       0       0       0      11 \n"
      ]
     },
     "metadata": {},
     "output_type": "display_data"
    },
    {
     "data": {
      "image/png": "[encoded data removed]",
      "text/plain": [
       "plot without title"
      ]
     },
     "metadata": {
      "image/png": {
       "height": 420,
       "width": 420
      }
     },
     "output_type": "display_data"
    }
   ],
   "source": [
    "mysumdtaMDT$pallcapred <- fn.sumpercavg(32)\n",
    "\n",
    "stat.pallcapred <- fn.summarystat(mysumdtaMDT$pallcapred, mysumdtaMDT$centre2)\n",
    "\n",
    "stat.pallcapred[[1]]\n",
    "\n",
    "print(\"Overall\")\n",
    "\n",
    "stat.pallcapred[[2]]\n",
    "\n",
    "print(\"Centre / Unit\")\n",
    "\n",
    "stat.pallcapred[[3]]\n"
   ]
  },
  {
   "cell_type": "markdown",
   "metadata": {},
   "source": [
    "### How much have your gynaecological oncology rapid access referrals dropped by (%)? (If not reduced enter '0')"
   ]
  },
  {
   "cell_type": "code",
   "execution_count": 22,
   "metadata": {},
   "outputs": [
    {
     "name": "stderr",
     "output_type": "stream",
     "text": [
      "Warning message:\n",
      "“Removed 10 rows containing non-finite values (stat_boxplot).”\n",
      "`stat_bindot()` using `bins = 30`. Pick better value with `binwidth`.\n",
      "\n",
      "Warning message:\n",
      "“Removed 10 rows containing non-finite values (stat_bindot).”\n"
     ]
    },
    {
     "name": "stdout",
     "output_type": "stream",
     "text": [
      "[1] \"Overall\"\n"
     ]
    },
    {
     "data": {
      "text/plain": [
       "   Min. 1st Qu.  Median    Mean 3rd Qu.    Max.    NA's \n",
       "   0.00   25.00   50.00   46.22   70.00   80.00      10 "
      ]
     },
     "metadata": {},
     "output_type": "display_data"
    },
    {
     "name": "stdout",
     "output_type": "stream",
     "text": [
      "[1] \"Centre / Unit\"\n"
     ]
    },
    {
     "data": {
      "text/plain": [
       "$Centre\n",
       "   Min. 1st Qu.  Median    Mean 3rd Qu.    Max.    NA's \n",
       "    0.0    30.0    50.0    48.4    70.0    80.0       7 \n",
       "\n",
       "$Unit\n",
       "   Min. 1st Qu.  Median    Mean 3rd Qu.    Max.    NA's \n",
       "  10.00   17.50   45.00   42.81   62.50   80.00       3 \n"
      ]
     },
     "metadata": {},
     "output_type": "display_data"
    },
    {
     "data": {
      "image/png": "[encoded data removed]",
      "text/plain": [
       "plot without title"
      ]
     },
     "metadata": {
      "image/png": {
       "height": 420,
       "width": 420
      }
     },
     "output_type": "display_data"
    }
   ],
   "source": [
    "mysumdtaMDT$gonvrred <- fn.sumpercavg(33)\n",
    "\n",
    "stat.gonvrred <- fn.summarystat(mysumdtaMDT$gonvrred, mysumdtaMDT$centre2)\n",
    "\n",
    "stat.gonvrred[[1]]\n",
    "\n",
    "print(\"Overall\")\n",
    "\n",
    "stat.gonvrred[[2]]\n",
    "\n",
    "print(\"Centre / Unit\")\n",
    "\n",
    "stat.gonvrred[[3]]"
   ]
  },
  {
   "cell_type": "markdown",
   "metadata": {},
   "source": [
    "### How much has your weekly MDT list/workload reduced by? (If not reduced enter '0')"
   ]
  },
  {
   "cell_type": "code",
   "execution_count": 23,
   "metadata": {},
   "outputs": [
    {
     "name": "stderr",
     "output_type": "stream",
     "text": [
      "Warning message:\n",
      "“Removed 5 rows containing non-finite values (stat_boxplot).”\n",
      "`stat_bindot()` using `bins = 30`. Pick better value with `binwidth`.\n",
      "\n",
      "Warning message:\n",
      "“Removed 5 rows containing non-finite values (stat_bindot).”\n"
     ]
    },
    {
     "name": "stdout",
     "output_type": "stream",
     "text": [
      "[1] \"Overall\"\n"
     ]
    },
    {
     "data": {
      "text/plain": [
       "   Min. 1st Qu.  Median    Mean 3rd Qu.    Max.    NA's \n",
       "   0.00    2.50   22.50   25.35   47.50   80.00       5 "
      ]
     },
     "metadata": {},
     "output_type": "display_data"
    },
    {
     "name": "stdout",
     "output_type": "stream",
     "text": [
      "[1] \"Centre / Unit\"\n"
     ]
    },
    {
     "data": {
      "text/plain": [
       "$Centre\n",
       "   Min. 1st Qu.  Median    Mean 3rd Qu.    Max.    NA's \n",
       "   0.00   14.06   27.50   28.62   50.00   80.00       4 \n",
       "\n",
       "$Unit\n",
       "   Min. 1st Qu.  Median    Mean 3rd Qu.    Max.    NA's \n",
       "   0.00    0.00   20.00   20.28   30.00   50.00       1 \n"
      ]
     },
     "metadata": {},
     "output_type": "display_data"
    },
    {
     "data": {
      "image/png": "[encoded data removed]",
      "text/plain": [
       "plot without title"
      ]
     },
     "metadata": {
      "image/png": {
       "height": 420,
       "width": 420
      }
     },
     "output_type": "display_data"
    }
   ],
   "source": [
    "mysumdtaMDT$mdtworkred <- fn.sumpercavg(34)\n",
    "\n",
    "stat.mdtworkred <- fn.summarystat(mysumdtaMDT$mdtworkred, mysumdtaMDT$centre2)\n",
    "\n",
    "stat.mdtworkred[[1]]\n",
    "\n",
    "print(\"Overall\")\n",
    "\n",
    "stat.mdtworkred[[2]]\n",
    "\n",
    "print(\"Centre / Unit\")\n",
    "\n",
    "stat.mdtworkred[[3]]"
   ]
  },
  {
   "cell_type": "markdown",
   "metadata": {},
   "source": [
    "### Have you needed to move activity off site to another hospital (e.g. Independent sector)"
   ]
  },
  {
   "cell_type": "code",
   "execution_count": 24,
   "metadata": {
    "scrolled": true
   },
   "outputs": [
    {
     "data": {
      "text/html": [
       "<table>\n",
       "<caption>A matrix: 6 × 4 of type chr</caption>\n",
       "<thead>\n",
       "\t<tr><th scope=col>Type</th><th scope=col>All</th><th scope=col>Unit</th><th scope=col>Centre</th></tr>\n",
       "</thead>\n",
       "<tbody>\n",
       "\t<tr><td>Move Op list      </td><td>23/41 (56%)</td><td> 9/19 (47%)</td><td>14/22 (64%)</td></tr>\n",
       "\t<tr><td>Move clinic       </td><td> 6/40 (15%)</td><td> 2/19 (11%)</td><td> 4/21 (19%)</td></tr>\n",
       "\t<tr><td>Move other        </td><td> 8/38 (21%)</td><td> 5/18 (28%)</td><td> 3/20 (15%)</td></tr>\n",
       "\t<tr><td>Not yet moved     </td><td> 3/29 (10%)</td><td> 2/16 (12%)</td><td> 1/13 ( 8%)</td></tr>\n",
       "\t<tr><td>Central hub       </td><td>15/39 (38%)</td><td> 5/18 (28%)</td><td>10/21 (48%)</td></tr>\n",
       "\t<tr><td>Min access surgery</td><td>30/41 (73%)</td><td>11/19 (58%)</td><td>19/22 (86%)</td></tr>\n",
       "</tbody>\n",
       "</table>\n"
      ],
      "text/latex": [
       "A matrix: 6 × 4 of type chr\n",
       "\\begin{tabular}{llll}\n",
       " Type & All & Unit & Centre\\\\\n",
       "\\hline\n",
       "\t Move Op list       & 23/41 (56\\%) &  9/19 (47\\%) & 14/22 (64\\%)\\\\\n",
       "\t Move clinic        &  6/40 (15\\%) &  2/19 (11\\%) &  4/21 (19\\%)\\\\\n",
       "\t Move other         &  8/38 (21\\%) &  5/18 (28\\%) &  3/20 (15\\%)\\\\\n",
       "\t Not yet moved      &  3/29 (10\\%) &  2/16 (12\\%) &  1/13 ( 8\\%)\\\\\n",
       "\t Central hub        & 15/39 (38\\%) &  5/18 (28\\%) & 10/21 (48\\%)\\\\\n",
       "\t Min access surgery & 30/41 (73\\%) & 11/19 (58\\%) & 19/22 (86\\%)\\\\\n",
       "\\end{tabular}\n"
      ],
      "text/markdown": [
       "\n",
       "A matrix: 6 × 4 of type chr\n",
       "\n",
       "| Type | All | Unit | Centre |\n",
       "|---|---|---|---|\n",
       "| Move Op list       | 23/41 (56%) |  9/19 (47%) | 14/22 (64%) |\n",
       "| Move clinic        |  6/40 (15%) |  2/19 (11%) |  4/21 (19%) |\n",
       "| Move other         |  8/38 (21%) |  5/18 (28%) |  3/20 (15%) |\n",
       "| Not yet moved      |  3/29 (10%) |  2/16 (12%) |  1/13 ( 8%) |\n",
       "| Central hub        | 15/39 (38%) |  5/18 (28%) | 10/21 (48%) |\n",
       "| Min access surgery | 30/41 (73%) | 11/19 (58%) | 19/22 (86%) |\n",
       "\n"
      ],
      "text/plain": [
       "     Type               All         Unit        Centre     \n",
       "[1,] Move Op list       23/41 (56%)  9/19 (47%) 14/22 (64%)\n",
       "[2,] Move clinic         6/40 (15%)  2/19 (11%)  4/21 (19%)\n",
       "[3,] Move other          8/38 (21%)  5/18 (28%)  3/20 (15%)\n",
       "[4,] Not yet moved       3/29 (10%)  2/16 (12%)  1/13 ( 8%)\n",
       "[5,] Central hub        15/39 (38%)  5/18 (28%) 10/21 (48%)\n",
       "[6,] Min access surgery 30/41 (73%) 11/19 (58%) 19/22 (86%)"
      ]
     },
     "metadata": {},
     "output_type": "display_data"
    }
   ],
   "source": [
    "mysumdtaMDT$movepperlist <- tapply(mydta3$movepperlist, mydta3$newname, mean) >0.1\n",
    "\n",
    "mysumdtaMDT$moveclinic <- tapply(mydta3$moveclinic, mydta3$newname, mean) >0.1\n",
    "\n",
    "mysumdtaMDT$moveotheractivity <- tapply(mydta3$moveotheractivity, mydta3$newname, mean) >0.1\n",
    "\n",
    "mysumdtaMDT$movenotyet <- tapply(mydta3$movenotyet, mydta3$newname, mean) >0.1\n",
    "\n",
    "mysumdtaMDT$centralhub <- tapply(mydta3$centralhub, mydta3$newname, mean) >0.1\n",
    "\n",
    "mysumdtaMDT$minaccesssurg <- tapply(mydta3$minaccesssurg, mydta3$newname, mean) >0.1\n",
    "\n",
    "##sensitivity analysis -- do other way around (no is dominant)\n",
    "##mysumdtaMDT$movepperlist <- tapply(mydta3$movepperlist, mydta3$newname, mean) ==1\n",
    "\n",
    "##mysumdtaMDT$moveclinic <- tapply(mydta3$moveclinic, mydta3$newname, mean) ==1 \n",
    "\n",
    "##mysumdtaMDT$moveotheractivity <- tapply(mydta3$moveotheractivity, mydta3$newname, mean) ==1 \n",
    "\n",
    "##mysumdtaMDT$movenotyet <- tapply(mydta3$movenotyet, mydta3$newname, mean) == 1\n",
    "\n",
    "##mysumdtaMDT$centralhub <- tapply(mydta3$centralhub, mydta3$newname, mean) == 1\n",
    "\n",
    "##mysumdtaMDT$minaccesssurg <- tapply(mydta3$minaccesssurg, mydta3$newname, mean) ==1 \n",
    "\n",
    "\n",
    "fn.sumstatMDT2 <- function(mysumdtaMDT){\n",
    "\n",
    "    paste(fn.format(colSums(mysumdtaMDT[,19:24], na.rm=TRUE),0), \"/\",\n",
    "          colSums(!is.na(mysumdtaMDT[,19:24])), \" (\",\n",
    "          fn.format(colMeans(mysumdtaMDT[,19:24], na.rm=TRUE)*100,0), \"%)\", sep=\"\")\n",
    "\n",
    "}\n",
    "\n",
    "mysumMDT.all2 <- cbind(c(\"Move Op list\", \"Move clinic\", \"Move other\", \"Not yet moved\", \"Central hub\", \"Min access surgery\"), fn.sumstatMDT2(mysumdtaMDT))\n",
    "\n",
    "##unit                                                                                                                                                                               \n",
    "mysumdtaMDT2.unit <- mysumdtaMDT[mysumdtaMDT$centre==2,]\n",
    "\n",
    "mysumMDT.unit2 <- cbind(c(\"Move Op list\", \"Move clinic\", \"Move other\", \"Not yet moved\", \"Central hub\", \"Min access surgery\"), fn.sumstatMDT2(mysumdtaMDT2.unit))\n",
    "\n",
    "\n",
    "##centre                                                                                                                                                                             \n",
    "mysumdtaMDT2.centre <- mysumdtaMDT[mysumdtaMDT$centre==1,]\n",
    "\n",
    "mysumMDT.centre2 <- cbind(c(\"Move Op list\", \"Move clinic\", \"Move other\", \"Not yet moved\", \"Central hub\", \"Min access surgery\"), fn.sumstatMDT2(mysumdtaMDT2.centre))\n",
    "\n",
    "\n",
    "mysumMDT.sum2 <- cbind(mysumMDT.all2, mysumMDT.unit2[,2], mysumMDT.centre2[,2])\n",
    "\n",
    "colnames(mysumMDT.sum2) <- c(\"Type\", \"All\", \"Unit\", \"Centre\")\n",
    "\n",
    "mysumMDT.sum2\n",
    "\n"
   ]
  },
  {
   "cell_type": "code",
   "execution_count": 25,
   "metadata": {},
   "outputs": [],
   "source": [
    "write.csv(file=\"output/centrelevelsummary.csv\", mysumdtaMDT)"
   ]
  },
  {
   "cell_type": "code",
   "execution_count": 26,
   "metadata": {},
   "outputs": [
    {
     "data": {
      "text/html": [
       "<table>\n",
       "<caption>A matrix: 5 × 10 of type chr</caption>\n",
       "<thead>\n",
       "\t<tr><th></th><th scope=col>Item</th><th scope=col>COVID (All)</th><th scope=col>Redeployment (All)</th><th scope=col>% Reduced (All)</th><th scope=col>COVID (Unit)</th><th scope=col>Redeployment (Unit)</th><th scope=col>% Reduced (Unit)</th><th scope=col>COVID (Centre)</th><th scope=col>Redeployment (Centre)</th><th scope=col>% Reduced (Centre)</th></tr>\n",
       "</thead>\n",
       "<tbody>\n",
       "\t<tr><th scope=row>t1.row1</th><td>Reduction staff</td><td>25/51 (49%)</td><td>           </td><td>                 </td><td>8/19 (42%)</td><td>         </td><td>              </td><td>17/32 (53%)</td><td>           </td><td>                 </td></tr>\n",
       "\t<tr><th scope=row>t1.row2</th><td>Junior doc     </td><td>14/25 (56%)</td><td>14/25 (56%)</td><td>40% (25-100)[1]  </td><td>5/8 (62%) </td><td>4/8 (50%)</td><td>30% (25-40)[1]</td><td>9/17 (53%) </td><td>10/17 (59%)</td><td>45% (24-100)[0]  </td></tr>\n",
       "\t<tr><th scope=row>t1.row3</th><td>GO Sub-spec    </td><td>2/25 (8%)  </td><td>6/25 (24%) </td><td>100% (100-100)[0]</td><td>0/8 (0%)  </td><td>1/8 (12%)</td><td>30% (30-30)[0]</td><td>2/17 (12%) </td><td>5/17 (29%) </td><td>100% (100-100)[0]</td></tr>\n",
       "\t<tr><th scope=row>t1.row4</th><td>Consultant     </td><td>17/25 (68%)</td><td>2/25 (8%)  </td><td>28% (20-38)[1]   </td><td>6/8 (75%) </td><td>0/8 (0%) </td><td>30% (30-33)[1]</td><td>11/17 (65%)</td><td>2/17 (12%) </td><td>25% (20-50)[0]   </td></tr>\n",
       "\t<tr><th scope=row>t1.row5</th><td>CNS            </td><td>9/25 (36%) </td><td>14/25 (56%)</td><td>30% (20-50)[2]   </td><td>4/8 (50%) </td><td>6/8 (75%)</td><td>40% (20-50)[2]</td><td>5/17 (29%) </td><td>8/17 (47%) </td><td>30% (20-50)[0]   </td></tr>\n",
       "</tbody>\n",
       "</table>\n"
      ],
      "text/latex": [
       "A matrix: 5 × 10 of type chr\n",
       "\\begin{tabular}{r|llllllllll}\n",
       "  & Item & COVID (All) & Redeployment (All) & \\% Reduced (All) & COVID (Unit) & Redeployment (Unit) & \\% Reduced (Unit) & COVID (Centre) & Redeployment (Centre) & \\% Reduced (Centre)\\\\\n",
       "\\hline\n",
       "\tt1.row1 & Reduction staff & 25/51 (49\\%) &             &                   & 8/19 (42\\%) &           &                & 17/32 (53\\%) &             &                  \\\\\n",
       "\tt1.row2 & Junior doc      & 14/25 (56\\%) & 14/25 (56\\%) & 40\\% (25-100){[}1{]}   & 5/8 (62\\%)  & 4/8 (50\\%) & 30\\% (25-40){[}1{]} & 9/17 (53\\%)  & 10/17 (59\\%) & 45\\% (24-100){[}0{]}  \\\\\n",
       "\tt1.row3 & GO Sub-spec     & 2/25 (8\\%)   & 6/25 (24\\%)  & 100\\% (100-100){[}0{]} & 0/8 (0\\%)   & 1/8 (12\\%) & 30\\% (30-30){[}0{]} & 2/17 (12\\%)  & 5/17 (29\\%)  & 100\\% (100-100){[}0{]}\\\\\n",
       "\tt1.row4 & Consultant      & 17/25 (68\\%) & 2/25 (8\\%)   & 28\\% (20-38){[}1{]}    & 6/8 (75\\%)  & 0/8 (0\\%)  & 30\\% (30-33){[}1{]} & 11/17 (65\\%) & 2/17 (12\\%)  & 25\\% (20-50){[}0{]}   \\\\\n",
       "\tt1.row5 & CNS             & 9/25 (36\\%)  & 14/25 (56\\%) & 30\\% (20-50){[}2{]}    & 4/8 (50\\%)  & 6/8 (75\\%) & 40\\% (20-50){[}2{]} & 5/17 (29\\%)  & 8/17 (47\\%)  & 30\\% (20-50){[}0{]}   \\\\\n",
       "\\end{tabular}\n"
      ],
      "text/markdown": [
       "\n",
       "A matrix: 5 × 10 of type chr\n",
       "\n",
       "| <!--/--> | Item | COVID (All) | Redeployment (All) | % Reduced (All) | COVID (Unit) | Redeployment (Unit) | % Reduced (Unit) | COVID (Centre) | Redeployment (Centre) | % Reduced (Centre) |\n",
       "|---|---|---|---|---|---|---|---|---|---|---|\n",
       "| t1.row1 | Reduction staff | 25/51 (49%) | <!----> | <!----> | 8/19 (42%) | <!----> | <!----> | 17/32 (53%) | <!----> | <!----> |\n",
       "| t1.row2 | Junior doc      | 14/25 (56%) | 14/25 (56%) | 40% (25-100)[1]   | 5/8 (62%)  | 4/8 (50%) | 30% (25-40)[1] | 9/17 (53%)  | 10/17 (59%) | 45% (24-100)[0]   |\n",
       "| t1.row3 | GO Sub-spec     | 2/25 (8%)   | 6/25 (24%)  | 100% (100-100)[0] | 0/8 (0%)   | 1/8 (12%) | 30% (30-30)[0] | 2/17 (12%)  | 5/17 (29%)  | 100% (100-100)[0] |\n",
       "| t1.row4 | Consultant      | 17/25 (68%) | 2/25 (8%)   | 28% (20-38)[1]    | 6/8 (75%)  | 0/8 (0%)  | 30% (30-33)[1] | 11/17 (65%) | 2/17 (12%)  | 25% (20-50)[0]    |\n",
       "| t1.row5 | CNS             | 9/25 (36%)  | 14/25 (56%) | 30% (20-50)[2]    | 4/8 (50%)  | 6/8 (75%) | 40% (20-50)[2] | 5/17 (29%)  | 8/17 (47%)  | 30% (20-50)[0]    |\n",
       "\n"
      ],
      "text/plain": [
       "        Item            COVID (All) Redeployment (All) % Reduced (All)  \n",
       "t1.row1 Reduction staff 25/51 (49%)                                     \n",
       "t1.row2 Junior doc      14/25 (56%) 14/25 (56%)        40% (25-100)[1]  \n",
       "t1.row3 GO Sub-spec     2/25 (8%)   6/25 (24%)         100% (100-100)[0]\n",
       "t1.row4 Consultant      17/25 (68%) 2/25 (8%)          28% (20-38)[1]   \n",
       "t1.row5 CNS             9/25 (36%)  14/25 (56%)        30% (20-50)[2]   \n",
       "        COVID (Unit) Redeployment (Unit) % Reduced (Unit) COVID (Centre)\n",
       "t1.row1 8/19 (42%)                                        17/32 (53%)   \n",
       "t1.row2 5/8 (62%)    4/8 (50%)           30% (25-40)[1]   9/17 (53%)    \n",
       "t1.row3 0/8 (0%)     1/8 (12%)           30% (30-30)[0]   2/17 (12%)    \n",
       "t1.row4 6/8 (75%)    0/8 (0%)            30% (30-33)[1]   11/17 (65%)   \n",
       "t1.row5 4/8 (50%)    6/8 (75%)           40% (20-50)[2]   5/17 (29%)    \n",
       "        Redeployment (Centre) % Reduced (Centre)\n",
       "t1.row1                                         \n",
       "t1.row2 10/17 (59%)           45% (24-100)[0]   \n",
       "t1.row3 5/17 (29%)            100% (100-100)[0] \n",
       "t1.row4 2/17 (12%)            25% (20-50)[0]    \n",
       "t1.row5 8/17 (47%)            30% (20-50)[0]    "
      ]
     },
     "metadata": {},
     "output_type": "display_data"
    },
    {
     "data": {
      "text/html": [
       "<table>\n",
       "<caption>A matrix: 26 × 4 of type chr</caption>\n",
       "<thead>\n",
       "\t<tr><th></th><th scope=col>Type</th><th scope=col>All</th><th scope=col>Unit</th><th scope=col>Centre</th></tr>\n",
       "</thead>\n",
       "<tbody>\n",
       "\t<tr><th scope=row></th><td>(a) MDT functioning      </td><td>               </td><td>              </td><td>              </td></tr>\n",
       "\t<tr><th scope=row>t2.row1</th><td>Implement change         </td><td>51/51 (100%)   </td><td>19/19 (100%)  </td><td>32/32 (100%)  </td></tr>\n",
       "\t<tr><th scope=row></th><td>Virtual MDT              </td><td>20/51 (39%)    </td><td> 5/19 (26%)   </td><td>15/32 (47%)   </td></tr>\n",
       "\t<tr><th scope=row></th><td>Mixed virual F2F         </td><td>33/51 (65%)    </td><td>13/19 (68%)   </td><td>20/32 (62%)   </td></tr>\n",
       "\t<tr><th scope=row></th><td>Less freq                </td><td> 0/51 ( 0%)    </td><td> 0/19 ( 0%)   </td><td> 0/32 ( 0%)   </td></tr>\n",
       "\t<tr><th scope=row></th><td>Suspend                  </td><td> 0/51 ( 0%)    </td><td> 0/19 ( 0%)   </td><td> 0/32 ( 0%)   </td></tr>\n",
       "\t<tr><th scope=row></th><td>Less Attd                </td><td>21/51 (41%)    </td><td> 6/19 (32%)   </td><td>15/32 (47%)   </td></tr>\n",
       "\t<tr><th scope=row>tab2.rednum</th><td> - how much less         </td><td>40% (17-50)[2] </td><td>50% (16-52)[1]</td><td>25% (20-40)[1]</td></tr>\n",
       "\t<tr><th scope=row></th><td>Remote consulatation     </td><td>75% (50-88)[2] </td><td>75% (50-85)[0]</td><td>74% (50-87)[2]</td></tr>\n",
       "\t<tr><th scope=row></th><td>(b) Reductions           </td><td>               </td><td>              </td><td>              </td></tr>\n",
       "\t<tr><th scope=row>tab3.row2</th><td>Reduction theatre time   </td><td>40% (20-70)[6] </td><td>60% (32-88)[1]</td><td>30% (12-55)[5]</td></tr>\n",
       "\t<tr><th scope=row>tab3.row3</th><td>Postponed surgery        </td><td>30% (16-57)[9] </td><td>35% (16-72)[3]</td><td>30% (16-50)[6]</td></tr>\n",
       "\t<tr><th scope=row>tab3.row4</th><td>Med oncology             </td><td>0% (0-0)[28]   </td><td>0% (0-0)[9]   </td><td>0% (0-13)[19] </td></tr>\n",
       "\t<tr><th scope=row>tab3.row5</th><td>Clinical oncology        </td><td>0% (0-8)[27]   </td><td>0% (0-0)[8]   </td><td>0% (0-10)[19] </td></tr>\n",
       "\t<tr><th scope=row>tab3.row6</th><td>Radiology                </td><td>0% (0-10)[19]  </td><td>0% (0-0)[6]   </td><td>0% (0-18)[13] </td></tr>\n",
       "\t<tr><th scope=row>tab3.row7</th><td>Pathology                </td><td>0% (0-0)[15]   </td><td>0% (0-0)[4]   </td><td>0% (0-0)[11]  </td></tr>\n",
       "\t<tr><th scope=row>tab3.row8</th><td>Palliative care          </td><td>0% (0-0)[28]   </td><td>0% (0-0)[11]  </td><td>0% (0-0)[17]  </td></tr>\n",
       "\t<tr><th scope=row>tab3.row9</th><td>GO rapid access referrals</td><td>50% (25-70)[10]</td><td>45% (18-62)[3]</td><td>50% (30-70)[7]</td></tr>\n",
       "\t<tr><th scope=row>tab3.row10</th><td>Weekly MDT list          </td><td>22% (2-48)[5]  </td><td>20% (0-30)[1] </td><td>28% (14-50)[4]</td></tr>\n",
       "\t<tr><th scope=row></th><td>(c) Move activity        </td><td>               </td><td>              </td><td>              </td></tr>\n",
       "\t<tr><th scope=row></th><td>Move Op list             </td><td>23/41 (56%)    </td><td> 9/19 (47%)   </td><td>14/22 (64%)   </td></tr>\n",
       "\t<tr><th scope=row></th><td>Move clinic              </td><td> 6/40 (15%)    </td><td> 2/19 (11%)   </td><td> 4/21 (19%)   </td></tr>\n",
       "\t<tr><th scope=row></th><td>Move other               </td><td> 8/38 (21%)    </td><td> 5/18 (28%)   </td><td> 3/20 (15%)   </td></tr>\n",
       "\t<tr><th scope=row></th><td>Not yet moved            </td><td> 3/29 (10%)    </td><td> 2/16 (12%)   </td><td> 1/13 ( 8%)   </td></tr>\n",
       "\t<tr><th scope=row></th><td>Central hub              </td><td>15/39 (38%)    </td><td> 5/18 (28%)   </td><td>10/21 (48%)   </td></tr>\n",
       "\t<tr><th scope=row></th><td>Min access surgery       </td><td>30/41 (73%)    </td><td>11/19 (58%)   </td><td>19/22 (86%)   </td></tr>\n",
       "</tbody>\n",
       "</table>\n"
      ],
      "text/latex": [
       "A matrix: 26 × 4 of type chr\n",
       "\\begin{tabular}{r|llll}\n",
       "  & Type & All & Unit & Centre\\\\\n",
       "\\hline\n",
       "\t & (a) MDT functioning       &                 &                &               \\\\\n",
       "\tt2.row1 & Implement change          & 51/51 (100\\%)    & 19/19 (100\\%)   & 32/32 (100\\%)  \\\\\n",
       "\t & Virtual MDT               & 20/51 (39\\%)     &  5/19 (26\\%)    & 15/32 (47\\%)   \\\\\n",
       "\t & Mixed virual F2F          & 33/51 (65\\%)     & 13/19 (68\\%)    & 20/32 (62\\%)   \\\\\n",
       "\t & Less freq                 &  0/51 ( 0\\%)     &  0/19 ( 0\\%)    &  0/32 ( 0\\%)   \\\\\n",
       "\t & Suspend                   &  0/51 ( 0\\%)     &  0/19 ( 0\\%)    &  0/32 ( 0\\%)   \\\\\n",
       "\t & Less Attd                 & 21/51 (41\\%)     &  6/19 (32\\%)    & 15/32 (47\\%)   \\\\\n",
       "\ttab2.rednum &  - how much less          & 40\\% (17-50){[}2{]}  & 50\\% (16-52){[}1{]} & 25\\% (20-40){[}1{]}\\\\\n",
       "\t & Remote consulatation      & 75\\% (50-88){[}2{]}  & 75\\% (50-85){[}0{]} & 74\\% (50-87){[}2{]}\\\\\n",
       "\t & (b) Reductions            &                 &                &               \\\\\n",
       "\ttab3.row2 & Reduction theatre time    & 40\\% (20-70){[}6{]}  & 60\\% (32-88){[}1{]} & 30\\% (12-55){[}5{]}\\\\\n",
       "\ttab3.row3 & Postponed surgery         & 30\\% (16-57){[}9{]}  & 35\\% (16-72){[}3{]} & 30\\% (16-50){[}6{]}\\\\\n",
       "\ttab3.row4 & Med oncology              & 0\\% (0-0){[}28{]}    & 0\\% (0-0){[}9{]}    & 0\\% (0-13){[}19{]} \\\\\n",
       "\ttab3.row5 & Clinical oncology         & 0\\% (0-8){[}27{]}    & 0\\% (0-0){[}8{]}    & 0\\% (0-10){[}19{]} \\\\\n",
       "\ttab3.row6 & Radiology                 & 0\\% (0-10){[}19{]}   & 0\\% (0-0){[}6{]}    & 0\\% (0-18){[}13{]} \\\\\n",
       "\ttab3.row7 & Pathology                 & 0\\% (0-0){[}15{]}    & 0\\% (0-0){[}4{]}    & 0\\% (0-0){[}11{]}  \\\\\n",
       "\ttab3.row8 & Palliative care           & 0\\% (0-0){[}28{]}    & 0\\% (0-0){[}11{]}   & 0\\% (0-0){[}17{]}  \\\\\n",
       "\ttab3.row9 & GO rapid access referrals & 50\\% (25-70){[}10{]} & 45\\% (18-62){[}3{]} & 50\\% (30-70){[}7{]}\\\\\n",
       "\ttab3.row10 & Weekly MDT list           & 22\\% (2-48){[}5{]}   & 20\\% (0-30){[}1{]}  & 28\\% (14-50){[}4{]}\\\\\n",
       "\t & (c) Move activity         &                 &                &               \\\\\n",
       "\t & Move Op list              & 23/41 (56\\%)     &  9/19 (47\\%)    & 14/22 (64\\%)   \\\\\n",
       "\t & Move clinic               &  6/40 (15\\%)     &  2/19 (11\\%)    &  4/21 (19\\%)   \\\\\n",
       "\t & Move other                &  8/38 (21\\%)     &  5/18 (28\\%)    &  3/20 (15\\%)   \\\\\n",
       "\t & Not yet moved             &  3/29 (10\\%)     &  2/16 (12\\%)    &  1/13 ( 8\\%)   \\\\\n",
       "\t & Central hub               & 15/39 (38\\%)     &  5/18 (28\\%)    & 10/21 (48\\%)   \\\\\n",
       "\t & Min access surgery        & 30/41 (73\\%)     & 11/19 (58\\%)    & 19/22 (86\\%)   \\\\\n",
       "\\end{tabular}\n"
      ],
      "text/markdown": [
       "\n",
       "A matrix: 26 × 4 of type chr\n",
       "\n",
       "| <!--/--> | Type | All | Unit | Centre |\n",
       "|---|---|---|---|---|\n",
       "| <!----> | (a) MDT functioning       | <!----> | <!----> | <!----> |\n",
       "| t2.row1 | Implement change          | 51/51 (100%)    | 19/19 (100%)   | 32/32 (100%)   |\n",
       "| <!----> | Virtual MDT               | 20/51 (39%)     |  5/19 (26%)    | 15/32 (47%)    |\n",
       "| <!----> | Mixed virual F2F          | 33/51 (65%)     | 13/19 (68%)    | 20/32 (62%)    |\n",
       "| <!----> | Less freq                 |  0/51 ( 0%)     |  0/19 ( 0%)    |  0/32 ( 0%)    |\n",
       "| <!----> | Suspend                   |  0/51 ( 0%)     |  0/19 ( 0%)    |  0/32 ( 0%)    |\n",
       "| <!----> | Less Attd                 | 21/51 (41%)     |  6/19 (32%)    | 15/32 (47%)    |\n",
       "| tab2.rednum |  - how much less          | 40% (17-50)[2]  | 50% (16-52)[1] | 25% (20-40)[1] |\n",
       "| <!----> | Remote consulatation      | 75% (50-88)[2]  | 75% (50-85)[0] | 74% (50-87)[2] |\n",
       "| <!----> | (b) Reductions            | <!----> | <!----> | <!----> |\n",
       "| tab3.row2 | Reduction theatre time    | 40% (20-70)[6]  | 60% (32-88)[1] | 30% (12-55)[5] |\n",
       "| tab3.row3 | Postponed surgery         | 30% (16-57)[9]  | 35% (16-72)[3] | 30% (16-50)[6] |\n",
       "| tab3.row4 | Med oncology              | 0% (0-0)[28]    | 0% (0-0)[9]    | 0% (0-13)[19]  |\n",
       "| tab3.row5 | Clinical oncology         | 0% (0-8)[27]    | 0% (0-0)[8]    | 0% (0-10)[19]  |\n",
       "| tab3.row6 | Radiology                 | 0% (0-10)[19]   | 0% (0-0)[6]    | 0% (0-18)[13]  |\n",
       "| tab3.row7 | Pathology                 | 0% (0-0)[15]    | 0% (0-0)[4]    | 0% (0-0)[11]   |\n",
       "| tab3.row8 | Palliative care           | 0% (0-0)[28]    | 0% (0-0)[11]   | 0% (0-0)[17]   |\n",
       "| tab3.row9 | GO rapid access referrals | 50% (25-70)[10] | 45% (18-62)[3] | 50% (30-70)[7] |\n",
       "| tab3.row10 | Weekly MDT list           | 22% (2-48)[5]   | 20% (0-30)[1]  | 28% (14-50)[4] |\n",
       "| <!----> | (c) Move activity         | <!----> | <!----> | <!----> |\n",
       "| <!----> | Move Op list              | 23/41 (56%)     |  9/19 (47%)    | 14/22 (64%)    |\n",
       "| <!----> | Move clinic               |  6/40 (15%)     |  2/19 (11%)    |  4/21 (19%)    |\n",
       "| <!----> | Move other                |  8/38 (21%)     |  5/18 (28%)    |  3/20 (15%)    |\n",
       "| <!----> | Not yet moved             |  3/29 (10%)     |  2/16 (12%)    |  1/13 ( 8%)    |\n",
       "| <!----> | Central hub               | 15/39 (38%)     |  5/18 (28%)    | 10/21 (48%)    |\n",
       "| <!----> | Min access surgery        | 30/41 (73%)     | 11/19 (58%)    | 19/22 (86%)    |\n",
       "\n"
      ],
      "text/plain": [
       "            Type                      All             Unit          \n",
       "            (a) MDT functioning                                     \n",
       "t2.row1     Implement change          51/51 (100%)    19/19 (100%)  \n",
       "            Virtual MDT               20/51 (39%)      5/19 (26%)   \n",
       "            Mixed virual F2F          33/51 (65%)     13/19 (68%)   \n",
       "            Less freq                  0/51 ( 0%)      0/19 ( 0%)   \n",
       "            Suspend                    0/51 ( 0%)      0/19 ( 0%)   \n",
       "            Less Attd                 21/51 (41%)      6/19 (32%)   \n",
       "tab2.rednum  - how much less          40% (17-50)[2]  50% (16-52)[1]\n",
       "            Remote consulatation      75% (50-88)[2]  75% (50-85)[0]\n",
       "            (b) Reductions                                          \n",
       "tab3.row2   Reduction theatre time    40% (20-70)[6]  60% (32-88)[1]\n",
       "tab3.row3   Postponed surgery         30% (16-57)[9]  35% (16-72)[3]\n",
       "tab3.row4   Med oncology              0% (0-0)[28]    0% (0-0)[9]   \n",
       "tab3.row5   Clinical oncology         0% (0-8)[27]    0% (0-0)[8]   \n",
       "tab3.row6   Radiology                 0% (0-10)[19]   0% (0-0)[6]   \n",
       "tab3.row7   Pathology                 0% (0-0)[15]    0% (0-0)[4]   \n",
       "tab3.row8   Palliative care           0% (0-0)[28]    0% (0-0)[11]  \n",
       "tab3.row9   GO rapid access referrals 50% (25-70)[10] 45% (18-62)[3]\n",
       "tab3.row10  Weekly MDT list           22% (2-48)[5]   20% (0-30)[1] \n",
       "            (c) Move activity                                       \n",
       "            Move Op list              23/41 (56%)      9/19 (47%)   \n",
       "            Move clinic                6/40 (15%)      2/19 (11%)   \n",
       "            Move other                 8/38 (21%)      5/18 (28%)   \n",
       "            Not yet moved              3/29 (10%)      2/16 (12%)   \n",
       "            Central hub               15/39 (38%)      5/18 (28%)   \n",
       "            Min access surgery        30/41 (73%)     11/19 (58%)   \n",
       "            Centre        \n",
       "                          \n",
       "t2.row1     32/32 (100%)  \n",
       "            15/32 (47%)   \n",
       "            20/32 (62%)   \n",
       "             0/32 ( 0%)   \n",
       "             0/32 ( 0%)   \n",
       "            15/32 (47%)   \n",
       "tab2.rednum 25% (20-40)[1]\n",
       "            74% (50-87)[2]\n",
       "                          \n",
       "tab3.row2   30% (12-55)[5]\n",
       "tab3.row3   30% (16-50)[6]\n",
       "tab3.row4   0% (0-13)[19] \n",
       "tab3.row5   0% (0-10)[19] \n",
       "tab3.row6   0% (0-18)[13] \n",
       "tab3.row7   0% (0-0)[11]  \n",
       "tab3.row8   0% (0-0)[17]  \n",
       "tab3.row9   50% (30-70)[7]\n",
       "tab3.row10  28% (14-50)[4]\n",
       "                          \n",
       "            14/22 (64%)   \n",
       "             4/21 (19%)   \n",
       "             3/20 (15%)   \n",
       "             1/13 ( 8%)   \n",
       "            10/21 (48%)   \n",
       "            19/22 (86%)   "
      ]
     },
     "metadata": {},
     "output_type": "display_data"
    }
   ],
   "source": [
    "fn.nperc <- function(in1, in2, ndig=0){\n",
    "    paste(in1, \"/\", in2, \" (\", fn.format(in1/in2*100,ndig), \"%)\", sep=\"\")\n",
    "}\n",
    "\n",
    "fn.summaryyes.2 <- function(inyes1, inyes2, inperc){\n",
    "    \n",
    "    out1 <- paste(sum(inyes1), \"/\", length(inyes1), \" (\", fn.format(sum(inyes1)/length(inyes1)*100,0), \"%)\", sep=\"\")\n",
    "\n",
    "    out2 <- paste(sum(inyes2), \"/\", length(inyes2), \" (\", fn.format(sum(inyes2)/length(inyes2)*100,0), \"%)\", sep=\"\")\n",
    "\n",
    "    out3.i <- c(median(inperc[inyes1==1 | inyes2==1], na.rm=TRUE), quantile(inperc[inyes1==1 | inyes2==1], c(0.25, 0.75), na.rm=TRUE))\n",
    "\n",
    "    out3 <- paste(round(out3.i[1],0), \"% (\", round(out3.i[2],0), \"-\", round(out3.i[3]), \")[\", sum(is.na(inperc[inyes1==1 | inyes2==1])), \"]\", sep=\"\")\n",
    "\n",
    "    c(out1, out2, out3)\n",
    "\n",
    "    }\n",
    "\n",
    "tab1.redstaff <- c(table(mydta4au$centre), table(mydta4bu$centre))\n",
    "\n",
    "t1.row1 <- c(fn.nperc(tab1.redstaff[1]+tab1.redstaff[2], sum(tab1.redstaff)),\"\", \"\",\n",
    "             fn.nperc(tab1.redstaff[2], tab1.redstaff[2]+tab1.redstaff[4]), \"\", \"\",\n",
    "             fn.nperc(tab1.redstaff[1], tab1.redstaff[1]+tab1.redstaff[3]),\"\", \"\")\n",
    "\n",
    "##junior docs                                                                                                                                                                        \n",
    "t1.row2 <- c(fn.summaryyes.2(mydta5a$staffJDCOVID,mydta5a$staffJDRedeploy, mydta5a$staffJDred),\n",
    "fn.summaryyes.2(mydta5a1$staffJDCOVID,mydta5a1$staffJDRedeploy, mydta5a1$staffJDred), ##unit                                                                                         \n",
    "fn.summaryyes.2(mydta5a0$staffJDCOVID,mydta5a0$staffJDRedeploy, mydta5a0$staffJDred)) ##centre                                                                                       \n",
    "\n",
    "##GO subspec                                                                                                                                                                         \n",
    "t1.row3 <- c(fn.summaryyes.2(mydta5a$staffGOCOVID,mydta5a$staffGORedeploy, mydta5a$staffGOred),\n",
    "fn.summaryyes.2(mydta5a1$staffGOCOVID,mydta5a1$staffGORedeploy, mydta5a1$staffGOred), ##unit                                                                                         \n",
    "fn.summaryyes.2(mydta5a0$staffGOCOVID,mydta5a0$staffGORedeploy, mydta5a0$staffGOred)) ##centre                                                                                       \n",
    "\n",
    "## consultant                                                                                                                                                                        \n",
    "##Const subspec                                                                                                                                                                      \n",
    "t1.row4 <- c(fn.summaryyes.2(mydta5a$staffConstCOVID,mydta5a$staffConstRedeploy, mydta5a$staffCONred),\n",
    "fn.summaryyes.2(mydta5a1$staffConstCOVID,mydta5a1$staffConstRedeploy, mydta5a1$staffCONred), ##unit                                                                                  \n",
    "fn.summaryyes.2(mydta5a0$staffConstCOVID,mydta5a0$staffConstRedeploy, mydta5a0$staffCONred)) ##centre   \n",
    "\n",
    "##CNS                                                                                                                                                                                \n",
    "t1.row5 <- c(fn.summaryyes.2(mydta5a$staffCNSCOVID,mydta5a$staffCNSRedeploy, mydta5a$staffCNSred),\n",
    "fn.summaryyes.2(mydta5a1$staffCNSCOVID,mydta5a1$staffCNSRedeploy, mydta5a1$staffCNSred), ##unit                                                                                      \n",
    "fn.summaryyes.2(mydta5a0$staffCNSCOVID,mydta5a0$staffCNSRedeploy, mydta5a0$staffCNSred)) ##centre                                                                                    \n",
    "\n",
    "t1a<-rbind(t1.row1, t1.row2, t1.row3, t1.row4, t1.row5)\n",
    "\n",
    "t1a.labels <- c(\"Reduction staff\", \"Junior doc\", \"GO Sub-spec\", \"Consultant\", \"CNS\")\n",
    "\n",
    "mytab1a <- cbind(t1a.labels, t1a)\n",
    "colnames(mytab1a) <- c(\"Item\", paste(rep(c(\"COVID\", \"Redeployment\", \"% Reduced\"),3),rep(c(\"(All)\", \"(Unit)\", \"(Centre)\"), each=3)))\n",
    "\n",
    "#################                                                                                                                                                                    \n",
    "## MDT functioning any changes                                                                                                                                                       \n",
    "\n",
    "mymdtchange <- tapply(as.character(mydta3$MDTchange), mydta3$newname, function(ind) mean(ind==\"Yes\"))\n",
    "\n",
    "tab2.1 <- c(\n",
    "    fn.nperc( table(mymdtchange), length(mymdtchange)),\n",
    "    paste(table(mymdtchange, mycentre),\"/\", table(mycentre), \" (\", fn.format(c(table(mymdtchange, mycentre)) / c(table(mycentre))*100,0), \"%)\", sep=\"\"))\n",
    "\n",
    "\n",
    "                      \n",
    "           fn.summaryyes.mdt <- function(inperc){\n",
    "\n",
    "    out3.i <- c(median(inperc, na.rm=TRUE), quantile(inperc, c(0.25, 0.75), na.rm=TRUE), sum(is.na(inperc)))\n",
    "\n",
    "    out3 <- paste(round(out3.i[1],0), \"% (\", round(out3.i[2],0), \"-\", round(out3.i[3]), \")[\", out3.i[4], \"]\", sep=\"\")\n",
    "\n",
    "    return(out3)\n",
    "\n",
    "    }\n",
    "\n",
    "\n",
    "t2.row1 <- c(\"Implement change\", tab2.1[1],  tab2.1[3],  tab2.1[2])\n",
    "\n",
    "tab2.rednum <- c(\" - how much less\", fn.summaryyes.mdt(mysumdtaMDT$redperc[ mysumdtaMDT$lessattd]),\n",
    "tapply(mysumdtaMDT$redperc[ mysumdtaMDT$lessattd], mysumdtaMDT$centre2[ mysumdtaMDT$lessattd], fn.summaryyes.mdt))      \n",
    "                      \n",
    "table2 <- rbind(t2.row1, mysumMDT.sum, tab2.rednum)\n",
    "                      \n",
    "## table 3 outpatient clinics                                                                                                                                                        \n",
    "\n",
    "tab3.row1 <- c(\"Remote outpatient\", c(fn.summaryyes.mdt(mysumdtaMDT$outpatientremote), tapply(mysumdtaMDT$outpatientremote, mysumdtaMDT$centre2, fn.summaryyes.mdt)))\n",
    "\n",
    "## reduced theatre                                                                                                                                                                   \n",
    "tab3.row2 <- c(\"Reduction theatre time\", c(fn.summaryyes.mdt(mysumdtaMDT$theatrered), tapply(mysumdtaMDT$theatrered, mysumdtaMDT$centre2, fn.summaryyes.mdt)))\n",
    "\n",
    "## surg post                                                                                                                                                                         \n",
    "tab3.row3 <- c(\"Postponed surgery\", c(fn.summaryyes.mdt(mysumdtaMDT$surgcasered), tapply(mysumdtaMDT$surgcasered, mysumdtaMDT$centre2, fn.summaryyes.mdt)))\n",
    "\n",
    "##                                                                                                                                                                                   \n",
    "tab3.row4 <- c(\"Med oncology \", c(fn.summaryyes.mdt(mysumdtaMDT$medoncred), tapply(mysumdtaMDT$medoncred, mysumdtaMDT$centre2, fn.summaryyes.mdt)))\n",
    "\n",
    "##                                                                                                                                                                                   \n",
    "tab3.row5 <- c(\"Clinical oncology \", c(fn.summaryyes.mdt(mysumdtaMDT$clinoncred), tapply(mysumdtaMDT$clinoncred, mysumdtaMDT$centre2, fn.summaryyes.mdt)))\n",
    "\n",
    "##                                                                                                                                                                                   \n",
    "tab3.row6 <- c(\"Radiology \", c(fn.summaryyes.mdt(mysumdtaMDT$radiored), tapply(mysumdtaMDT$radiored, mysumdtaMDT$centre2, fn.summaryyes.mdt)))\n",
    "\n",
    "##                                                                                                                                                                                   \n",
    "tab3.row7 <- c(\"Pathology\", c(fn.summaryyes.mdt(mysumdtaMDT$pathred), tapply(mysumdtaMDT$pathred, mysumdtaMDT$centre2, fn.summaryyes.mdt)))\n",
    "\n",
    "##                                                                                                                                                                                   \n",
    "tab3.row8 <- c(\"Palliative care\", c(fn.summaryyes.mdt(mysumdtaMDT$pallcapred), tapply(mysumdtaMDT$pallcapred, mysumdtaMDT$centre2, fn.summaryyes.mdt)))\n",
    "\n",
    "                      #                                                                                                                                                                                   \n",
    "tab3.row9 <- c(\"GO rapid access referrals\", c(fn.summaryyes.mdt(mysumdtaMDT$gonvrred), tapply(mysumdtaMDT$gonvrred, mysumdtaMDT$centre2, fn.summaryyes.mdt)))\n",
    "\n",
    "##                                                                                                                                                                                   \n",
    "tab3.row10 <- c(\"Weekly MDT list\", c(fn.summaryyes.mdt(mysumdtaMDT$mdtworkred), tapply(mysumdtaMDT$mdtworkred, mysumdtaMDT$centre2, fn.summaryyes.mdt)))\n",
    "\n",
    "\n",
    "table3 <- rbind(tab3.row1,\n",
    "                tab3.row2,\n",
    "                tab3.row3,\n",
    "                tab3.row4,\n",
    "                tab3.row5,\n",
    "                tab3.row6,\n",
    "                tab3.row7,\n",
    "                tab3.row8,\n",
    "                tab3.row9,\n",
    "                tab3.row10)\n",
    "\n",
    "\n",
    "colnames(table3) <- c(\"Item\", \"Overall\", \"Centre\", \"Unit\")\n",
    "\n",
    "                      \n",
    "###########                                                                                                                                                                         \n",
    "## combine                                                                                                                                                                           \n",
    "\n",
    "table2b <- rbind(c(\"(a) MDT functioning\", \"\", \"\", \"\"),table2, c(\"Remote consulatation\", table3[1,c(2,4,3)]), c(\"(b) Reductions\", \"\", \"\",\"\"), table3[2:10,c(1,2,4,3)],c(\"(c) Move activity\", \"\", \"\", \"\"),mysumMDT.sum2)\n",
    "                      \n",
    "table1  <- mytab1a\n",
    "\n",
    "write.csv(file=\"output/table1.csv\", table1)\n",
    "\n",
    "write.csv(file=\"output/table2.csv\", table2b)\n",
    "\n",
    "table1\n",
    "                      \n",
    "table2b\n",
    "                      "
   ]
  }
 ],
 "metadata": {
  "kernelspec": {
   "display_name": "R",
   "language": "R",
   "name": "ir"
  },
  "language_info": {
   "codemirror_mode": "r",
   "file_extension": ".r",
   "mimetype": "text/x-r-source",
   "name": "R",
   "pygments_lexer": "r",
   "version": "3.6.3"
  }
 },
 "nbformat": 4,
 "nbformat_minor": 4
}
